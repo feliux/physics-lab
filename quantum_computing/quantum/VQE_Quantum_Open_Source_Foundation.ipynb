{
 "cells": [
  {
   "cell_type": "markdown",
   "metadata": {},
   "source": [
    "# Variational Quantum Eigensolver\n",
    "\n",
    "The Variational Quantum Eigensolver (VQE) is used to find eigenvalues of a matrix $H$, which is often too large to perform a similar operation on a classical computer. The problem of finding eigenvalues appears in many areas such as optimization, quantum simulations or quantum chemistry.\n",
    "\n",
    "In this notebook, we will implement VQE in Python just using `numpy` and `sympy` as quantum computer simulator in order to solve one of the tasks of [Quantum Computing Mentorship Program](https://qosf.org/qc_mentorship/). \n",
    "\n",
    "Firstly we will get a grasp on theory but a **basic quantum mechanics knowledgement is required**."
   ]
  },
  {
   "cell_type": "markdown",
   "metadata": {},
   "source": [
    "## VQE Theory\n",
    "\n",
    "Assume, we want to know the lowest eigenvalue $\\lambda_1$ of Hermitian matrix $H$. The VQE algorithm uses a quantum subroutine inside a classical minimization task. The quantum subroutine consists of two parts\n",
    "\n",
    "- Prepare a quantum state $|\\psi({\\theta})\\rangle$\n",
    "\n",
    "- Measure the expectation value of $H$ in the state $|\\psi({\\theta})\\rangle$, which is denoted by:\n",
    "\n",
    "$$\\langle H \\rangle = \\langle\\psi({\\theta})|H|\\psi({\\theta})\\rangle$$\n",
    "\n",
    "According to the [variational theorem](https://en.wikipedia.org/wiki/Variational_method_(quantum_mechanics)), the expectation value is always greater or equal to the lowest eigenvalue\n",
    "\n",
    "$$\\langle H \\rangle \\geqslant \\lambda_1$$\n",
    "\n",
    "Our problem boils down to finding such an optimal choice of real-valued $\\theta$ parameters, that the expectation value is minimized and an approximate of the lowest eigenvalue is found.\n",
    "\n",
    "Now, the classical optimization enters the game. Thanks to the quantum subroutine, we get an expectation value dependent on $\\theta$ parameters. This value can be minimized with a gradient-free optimization method such as [Nelder-Mead](https://en.wikipedia.org/wiki/Nelder%E2%80%93Mead_method) method."
   ]
  },
  {
   "cell_type": "markdown",
   "metadata": {},
   "source": [
    "## Problem\n",
    "\n",
    "We will search for the lowest eigenvalue of the following Hamiltonian\n",
    "\n",
    "$$H = \\quad\\begin{pmatrix} \n",
    "1 & 0 & 0 & 0 \\\\ 0 & 0 & -1 & 0 \\\\ 0 & -1 & 0 & 0 \\\\ 0 & 0 & 0 & 1\n",
    "\\end{pmatrix}$$\n",
    "\n",
    "So first we need to decompose this matrix on sum of [Pauli](https://en.wikipedia.org/wiki/Pauli_matrices) terms. Then we can rewrite $H$ as\n",
    "\n",
    "$$ H = \\frac{1}{2} I\\otimes I + \\frac{1}{2} Z\\otimes Z - \\frac{1}{2} Y\\otimes Y - \\frac{1}{2} X\\otimes X $$\n",
    "\n",
    "where $\\otimes$ means tensorial product and Pauli terms corresponds with\n",
    "\n",
    "$$\n",
    "I=\\quad\\begin{pmatrix} 1 & 0 \\\\ 0 & 1 \\end{pmatrix},\n",
    "Z=\\quad\\begin{pmatrix} 1 & 0 \\\\ 0 & -1 \\end{pmatrix},\n",
    "Y=\\quad\\begin{pmatrix} 0 & -i \\\\ i & 0 \\end{pmatrix},\n",
    "X=\\quad\\begin{pmatrix} 0 & 1 \\\\ 1 & 0 \\end{pmatrix}\n",
    "$$"
   ]
  },
  {
   "cell_type": "markdown",
   "metadata": {},
   "source": [
    "## Implementation\n",
    "\n",
    "### Preliminars\n",
    "\n",
    "We will use `numpy` and `sympy` for calculating the previous Hamiltonian by two ways\n",
    "\n",
    "1) Only using `sympy` and matrix products\n",
    "\n",
    "2) Perform a simple quantum circuits using `numpy`.\n",
    "\n",
    "So first let's import some objects required."
   ]
  },
  {
   "cell_type": "code",
   "execution_count": 1,
   "metadata": {},
   "outputs": [],
   "source": [
    "import numpy as np\n",
    "from numpy import linalg as la\n",
    "from scipy.linalg import norm\n",
    "from sympy import Symbol, Matrix, diag, eye, cos, sin, exp, pi, lambdify\n",
    "from sympy.physics.quantum import Dagger, TensorProduct\n",
    "import matplotlib.pyplot as plt"
   ]
  },
  {
   "cell_type": "markdown",
   "metadata": {},
   "source": [
    "#### Sympy\n",
    "\n",
    "We will define our **qubits** and [quantum gates](https://en.wikipedia.org/wiki/Quantum_logic_gate)"
   ]
  },
  {
   "cell_type": "code",
   "execution_count": 2,
   "metadata": {},
   "outputs": [],
   "source": [
    "theta = Symbol(\"theta\", real=True)\n",
    "j = np.complex(0,1)\n",
    "\n",
    "# qubits\n",
    "ket_0 = Matrix([[1], [0]])\n",
    "ket_1 = Matrix([[0], [1]])\n",
    "\n",
    "# identity, hadamard and CNOT gates\n",
    "I = Matrix([[1, 0], [0, 1]])\n",
    "H = 1/np.sqrt(2) * Matrix([[1, 1], [1, -1]])\n",
    "cx = diag(eye(2), Matrix([[0, 1], [1, 0]]))\n",
    "\n",
    "# pauli gates\n",
    "pauli_x = Matrix([[0, 1], [1, 0]])\n",
    "pauli_y = Matrix([[0, -j], [j, 0]])\n",
    "pauli_z = Matrix([[1, 0], [0, -1]])\n",
    "\n",
    "# rotational gates wiht a theta parameter\n",
    "ry = Matrix([[cos(theta/2), -sin(theta/2)], [sin(theta/2), cos(theta/2)]])\n",
    "rx = Matrix([[cos(theta/2), -j*sin(theta/2)], [-j*sin(theta/2), cos(theta/2)]])\n",
    "#rz = Matrix([[exp((-j*theta/2)), 0], [0, exp((j*theta/2))]])\n",
    "rz = Matrix([[cos(theta/2) -j*sin(theta/2), 0], [0, cos(theta/2) +j*sin(theta/2)]])"
   ]
  },
  {
   "cell_type": "markdown",
   "metadata": {},
   "source": [
    "We are going to start with a state $|00\\rangle$ as usual on a quantum circuits in order to prepare a state called **ansatz**. We can define an ansatz as the routine that takes parameters as an input and prepares a quantum state $|\\psi({\\theta})\\rangle$ which is used to do some calculations. Also this states are vectors on a 4-dimensional Hilbert space so we have to construct the corresponding gates that acts on each particular qubit.\n",
    "\n",
    "Our ansatz will be $Rx_1(\\theta) C_{NOT} H_1|00\\rangle$"
   ]
  },
  {
   "cell_type": "code",
   "execution_count": 3,
   "metadata": {},
   "outputs": [
    {
     "name": "stdout",
     "output_type": "stream",
     "text": [
      "ansatz\n"
     ]
    },
    {
     "data": {
      "text/latex": [
       "$\\displaystyle \\left[\\begin{matrix}0.707106781186547 \\cos{\\left(\\frac{\\theta}{2} \\right)}\\\\- 0.707106781186547 i \\sin{\\left(\\frac{\\theta}{2} \\right)}\\\\- 0.707106781186547 i \\sin{\\left(\\frac{\\theta}{2} \\right)}\\\\0.707106781186547 \\cos{\\left(\\frac{\\theta}{2} \\right)}\\end{matrix}\\right]$"
      ],
      "text/plain": [
       "Matrix([\n",
       "[   0.707106781186547*cos(theta/2)],\n",
       "[-0.707106781186547*I*sin(theta/2)],\n",
       "[-0.707106781186547*I*sin(theta/2)],\n",
       "[   0.707106781186547*cos(theta/2)]])"
      ]
     },
     "execution_count": 3,
     "metadata": {},
     "output_type": "execute_result"
    }
   ],
   "source": [
    "II = TensorProduct(I, I)\n",
    "ZZ = TensorProduct(pauli_z, pauli_z)\n",
    "YY = TensorProduct(pauli_y, pauli_y)\n",
    "XX = TensorProduct(pauli_x, pauli_x)\n",
    "hamiltonian = 1/2*II + 1/2*ZZ - 1/2*YY - 1/2*XX\n",
    "\n",
    "ry1 = TensorProduct(ry, I)\n",
    "ry2 = TensorProduct(I, ry)\n",
    "ryry = TensorProduct(ry, ry)\n",
    "\n",
    "rx1 = TensorProduct(rx, I)\n",
    "rx2 = TensorProduct(I, rx)\n",
    "rxrx = TensorProduct(rx, rx)\n",
    "\n",
    "#ansatz = TensorProduct(ry, I) * cx * TensorProduct(H * ket_0, ket_0)\n",
    "ansatz = TensorProduct(rx, I) * cx * TensorProduct(H * ket_0, ket_0)\n",
    "print(\"ansatz\")\n",
    "ansatz"
   ]
  },
  {
   "cell_type": "markdown",
   "metadata": {},
   "source": [
    "Once we have prepared our state let's do some calculations. Firts we calculate four terms of our Hamiltonian and then the corresponding expected value. We have to care about one thing: in spite of we operate over our ansatz, in a real quantum computer we have to implement a mechanism to do measurements on a quantum basis, this is the basis $|0\\rangle$ and $|1\\rangle$ in the $Z$ axis. For this reason we manipulate our ansatz in order to create two new states `ansataz_x` and `ansatz_y`."
   ]
  },
  {
   "cell_type": "code",
   "execution_count": 4,
   "metadata": {},
   "outputs": [
    {
     "name": "stdout",
     "output_type": "stream",
     "text": [
      "Hamiltonian expected value as function of theta parameter: \n"
     ]
    },
    {
     "data": {
      "text/latex": [
       "$\\displaystyle \\left[\\begin{matrix}- 1.0 \\left(- 0.707106781186547 i \\sin{\\left(\\frac{\\theta}{2} \\right)} + 0.707106781186547 \\cos{\\left(\\frac{\\theta}{2} \\right)}\\right) \\left(0.707106781186547 i \\sin{\\left(\\frac{\\theta}{2} \\right)} + 0.707106781186547 \\cos{\\left(\\frac{\\theta}{2} \\right)}\\right) - 0.5 \\left(- 1.57009245868378 \\cdot 10^{-16} i \\sin{\\left(\\frac{\\theta}{2} \\right)} - i \\cos{\\left(\\frac{\\theta}{2} \\right)}\\right)^{2} - 0.5 \\left(- \\sin{\\left(\\frac{\\theta}{2} \\right)} + 1.57009245868378 \\cdot 10^{-16} \\cos{\\left(\\frac{\\theta}{2} \\right)}\\right)^{2} + 1.23259516440783 \\cdot 10^{-32} \\sin^{2}{\\left(\\frac{\\theta}{2} \\right)} + 1.0 \\cos^{2}{\\left(\\frac{\\theta}{2} \\right)}\\end{matrix}\\right]$"
      ],
      "text/plain": [
       "Matrix([[-1.0*(-0.707106781186547*I*sin(theta/2) + 0.707106781186547*cos(theta/2))*(0.707106781186547*I*sin(theta/2) + 0.707106781186547*cos(theta/2)) - 0.5*(-1.57009245868378e-16*I*sin(theta/2) - I*cos(theta/2))**2 - 0.5*(-sin(theta/2) + 1.57009245868378e-16*cos(theta/2))**2 + 1.23259516440783e-32*sin(theta/2)**2 + 1.0*cos(theta/2)**2]])"
      ]
     },
     "execution_count": 4,
     "metadata": {},
     "output_type": "execute_result"
    }
   ],
   "source": [
    "H_i = ansatz.conjugate().T * II * ansatz\n",
    "H_z = ansatz.conjugate().T * ZZ * ansatz\n",
    "\n",
    "# ansatz_x for H_x | rotate -pi/2 over Y axis\n",
    "#ansatz_x = ry1.subs(theta, -np.pi/2) * ry2.subs(theta, -np.pi/2) * ansatz\n",
    "ansatz_x = ryry.subs(theta, -np.pi/2) * ansatz\n",
    "H_x = ansatz_x.conjugate().T * ZZ * ansatz_x\n",
    "\n",
    "# ansatz_y for H_y | rotate pi/2 over X axis\n",
    "#ansatz_y = rx1.subs(theta, np.pi/2) * rx2.subs(theta, np.pi/2) * ansatz\n",
    "ansatz_y = rxrx.subs(theta, np.pi/2) * ansatz\n",
    "H_y = ansatz_y.conjugate().T * ZZ * ansatz_y\n",
    "\n",
    "expected = 1/2*H_i + 1/2*H_z - 1/2*H_y - 1/2*H_x\n",
    "print(\"Hamiltonian expected value as function of theta parameter: \")\n",
    "expected"
   ]
  },
  {
   "cell_type": "markdown",
   "metadata": {},
   "source": [
    "Finally the expectation value of $H$ is measured in the state ansatz and a minimum is found by varying parameters $\\theta$.\n",
    "\n",
    "Note: we are not going to implement an algorithm that minimize $\\theta$ parameter."
   ]
  },
  {
   "cell_type": "code",
   "execution_count": 5,
   "metadata": {},
   "outputs": [
    {
     "data": {
      "image/png": "[encoded data removed]",
      "text/plain": [
       "<Figure size 432x288 with 1 Axes>"
      ]
     },
     "metadata": {
      "needs_background": "light"
     },
     "output_type": "display_data"
    },
    {
     "name": "stdout",
     "output_type": "stream",
     "text": [
      "Minimal Eigenvalue:  -1.00000000000000\n"
     ]
    }
   ],
   "source": [
    "theta_range = np.linspace(0.0, 2 * np.pi, 25)\n",
    "\n",
    "data = [expected.subs(theta, i).evalf(chop=True)[0] for i in theta_range]\n",
    "\n",
    "plt.xlabel(\"Parameter value\")\n",
    "plt.ylabel(\"Expectation value\")\n",
    "plt.plot(theta_range, data)\n",
    "plt.show()\n",
    "\n",
    "print(\"Minimal Eigenvalue: \", min(data))"
   ]
  },
  {
   "cell_type": "markdown",
   "metadata": {},
   "source": [
    "And this value is the minimal of the four eigenvalues of the Hamiltonian"
   ]
  },
  {
   "cell_type": "code",
   "execution_count": 6,
   "metadata": {},
   "outputs": [
    {
     "data": {
      "text/plain": [
       "array([ 1., -1.,  1.,  1.])"
      ]
     },
     "execution_count": 6,
     "metadata": {},
     "output_type": "execute_result"
    }
   ],
   "source": [
    "hamiltonian = np.array([[1, 0, 0, 0], [0, 0, -1, 0], [0, -1, 0, 0], [0, 0, 0, 1]])\n",
    "e_vals, e_vecs = la.eig(hamiltonian)\n",
    "e_vals"
   ]
  },
  {
   "cell_type": "markdown",
   "metadata": {},
   "source": [
    "#### Numpy\n",
    "\n",
    "On the previous section we performed a VQE using `sympy` and explicit matrix calculations. Part of this tasks consists on define a quantum gate as a matrix $2^N$ dimensional where $N$ is the number of qubits. This because we represent a system of $N$ qubits as a point on $2^N$ dimensional Hilbert space. For example, a system of 4 qubits can be written as\n",
    "\n",
    "$$|0010\\rangle = |0\\rangle_1\\otimes |0\\rangle_2\\otimes|1\\rangle_3\\otimes|0\\rangle_4$$\n",
    "\n",
    "You can see how hard is define a matrix that operate on the following qubit system $|100111001101011100001011100100001\\rangle$\n",
    "\n",
    "In order to deal with this topic we can improve a more efficient implementation using `numpy`. Also, `numpy` allows us to develop a more realistic quantum simulator.\n",
    "\n",
    "Note: we still use `sympy` to deal with a parameter $\\theta$."
   ]
  },
  {
   "cell_type": "code",
   "execution_count": 7,
   "metadata": {},
   "outputs": [],
   "source": [
    "j = np.complex(0, 1)\n",
    "\n",
    "# identity, hadamard and CNOT gates\n",
    "I = np.array([[1, 0], [0, 1]])\n",
    "H_matrix = 1/np.sqrt(2) * np.array([[1, 1], [1, -1]])\n",
    "CNOT_matrix = np.array([[1,0,0,0],\n",
    "                        [0,1,0,0],\n",
    "                        [0,0,0,1],\n",
    "                        [0,0,1,0]])\n",
    "\n",
    "CNOT_tensor = np.reshape(CNOT_matrix, (2,2,2,2))\n",
    "\n",
    "# pauli gates\n",
    "pauli_x = np.array([[0, 1], [1, 0]])\n",
    "pauli_y = np.array([[0, -j], [j, 0]])\n",
    "pauli_z = np.array([[1, 0], [0, -1]])\n",
    "\n",
    "# n qubits\n",
    "class Reg: \n",
    "    def __init__(self, n):\n",
    "        self.n = n\n",
    "        self.psi = np.zeros((2,) * n) \n",
    "        self.psi[(0,) * n] = 1        \n",
    "    \n",
    "def H(i, reg):\n",
    "    reg.psi = np.tensordot(H_matrix, reg.psi, (1, i)) \n",
    "    reg.psi = np.moveaxis(reg.psi, 0, i)\n",
    "    \n",
    "def Z(i, reg):\n",
    "    reg.psi = np.tensordot(pauli_z, reg.psi, (1, i)) \n",
    "    reg.psi = np.moveaxis(reg.psi, 0, i)\n",
    "    \n",
    "def X(i, reg):\n",
    "    reg.psi = np.tensordot(pauli_x, reg.psi, (1, i)) \n",
    "    reg.psi = np.moveaxis(reg.psi, 0, i)\n",
    "    \n",
    "def Y(i, reg):\n",
    "    reg.psi = np.tensordot(pauli_y, reg.psi, (1, i)) \n",
    "    reg.psi = np.moveaxis(reg.psi, 0, i)\n",
    "    \n",
    "def Ry(i, reg, angle=\"theta\", angle_value=None):\n",
    "    angle = Symbol(angle, real=True)\n",
    "    ry = Matrix([[cos(angle/2), -sin(angle/2)], [sin(angle/2), cos(angle/2)]])\n",
    "    if angle_value is None:\n",
    "        reg.psi = np.tensordot(ry, reg.psi, (1, i))\n",
    "    else:\n",
    "        reg.psi = np.tensordot(ry.subs(angle, angle_value), reg.psi, (1, i))\n",
    "    reg.psi = np.moveaxis(reg.psi, 0, i)\n",
    "    \n",
    "def Rx(i, reg, angle=\"theta\", angle_value=None):\n",
    "    angle = Symbol(angle, real=True)\n",
    "    j = np.complex(0, 1)\n",
    "    rx = Matrix([[cos(angle/2), -j*sin(angle/2)], [-j*sin(angle/2), cos(angle/2)]])\n",
    "    if angle_value is None:\n",
    "        reg.psi = np.tensordot(rx, reg.psi, (1, i))\n",
    "    else:\n",
    "        reg.psi = np.tensordot(rx.subs(angle, angle_value), reg.psi, (1, i))\n",
    "    reg.psi = np.moveaxis(reg.psi, 0, i)\n",
    "    \n",
    "def Rz(i, reg, angle=\"theta\", angle_value=None):\n",
    "    angle = Symbol(angle, real=True)\n",
    "    j = np.complex(0, 1)\n",
    "    #rz = Matrix([[exp((-j*theta/2)), 0], [0, exp((j*theta/2))]])\n",
    "    rz = Matrix([[cos(angle/2) -j*sin(angle/2), 0], [0, cos(angle/2) +j*sin(angle/2)]])\n",
    "    if angle_value is None:\n",
    "        reg.psi = np.tensordot(rz, reg.psi, (1, i))\n",
    "    else:\n",
    "        reg.psi = np.tensordot(rz.subs(angle, angle_value), reg.psi, (1, i))\n",
    "    reg.psi = np.moveaxis(reg.psi, 0, i)\n",
    "\n",
    "def CNOT(control, target, reg):\n",
    "    reg.psi = np.tensordot(CNOT_tensor, reg.psi, ((2,3), (control, target))) \n",
    "    reg.psi = np.moveaxis(reg.psi, (0, 1), (control, target))   \n",
    "\n",
    "def measure(i, reg): \n",
    "    projectors = [np.array([[1, 0], [0, 0]]), np.array([[0, 0], [0, 1]])] \n",
    "    \n",
    "    def project(i, j, reg): \n",
    "        projected = np.tensordot(projectors[j], reg.psi, (1, i))\n",
    "        return np.moveaxis(projected, 0, i)\n",
    "    \n",
    "    projected = project(i, 0, reg) \n",
    "    norm_projected = norm(projected.flatten()) \n",
    "    if np.random.random() < norm_projected ** 2: \n",
    "        reg.psi = projected/norm_projected\n",
    "        return 0\n",
    "    else:\n",
    "        projected = project(i, 1, reg)\n",
    "        reg.psi = projected/norm(projected)\n",
    "        return 1"
   ]
  },
  {
   "cell_type": "markdown",
   "metadata": {},
   "source": [
    "We defined each quantum gate as a `function` that operate on a register `reg`. This register is a `class` initializated with the number of qubits we want and it contains the ket $|0..\\rangle$. For example, if we want 1 and 10 qubits"
   ]
  },
  {
   "cell_type": "code",
   "execution_count": 8,
   "metadata": {},
   "outputs": [
    {
     "data": {
      "text/plain": [
       "array([1., 0.])"
      ]
     },
     "execution_count": 8,
     "metadata": {},
     "output_type": "execute_result"
    }
   ],
   "source": [
    "reg_0 = Reg(1)\n",
    "reg_0.psi.flatten()"
   ]
  },
  {
   "cell_type": "code",
   "execution_count": 9,
   "metadata": {},
   "outputs": [
    {
     "data": {
      "text/plain": [
       "array([1., 0., 0., ..., 0., 0., 0.])"
      ]
     },
     "execution_count": 9,
     "metadata": {},
     "output_type": "execute_result"
    }
   ],
   "source": [
    "reg_10 = Reg(10)\n",
    "reg_10.psi.flatten()"
   ]
  },
  {
   "cell_type": "markdown",
   "metadata": {},
   "source": [
    "And if we apply Hadamard gate on $|0\\rangle$ we obtain"
   ]
  },
  {
   "cell_type": "code",
   "execution_count": 10,
   "metadata": {},
   "outputs": [
    {
     "data": {
      "text/plain": [
       "array([0.70710678, 0.70710678])"
      ]
     },
     "execution_count": 10,
     "metadata": {},
     "output_type": "execute_result"
    }
   ],
   "source": [
    "H(0, reg_0)\n",
    "reg_0.psi.flatten()"
   ]
  },
  {
   "cell_type": "markdown",
   "metadata": {},
   "source": [
    "Now we can implement a VQE defining a simple quantum circuits."
   ]
  },
  {
   "cell_type": "code",
   "execution_count": 11,
   "metadata": {},
   "outputs": [],
   "source": [
    "reg_z = Reg(2)\n",
    "\n",
    "H(0, reg_z)\n",
    "CNOT(0, 1, reg_z)\n",
    "Rx(0, reg_z)\n",
    "\n",
    "ansatz_z = reg_z.psi.flatten()\n",
    "Z(0, reg_z)\n",
    "Z(1, reg_z)\n",
    "\n",
    "expected_z = 1/2 * np.dot(ansatz_z.conjugate(), reg_z.psi.flatten())\n",
    "expected_I = 1/2 * np.dot(ansatz_z.conjugate(), ansatz_z)\n",
    "\n",
    "reg_x = Reg(2)\n",
    "\n",
    "H(0, reg_x)\n",
    "CNOT(0, 1, reg_x)\n",
    "Rx(0, reg_x)\n",
    "\n",
    "# ansatz_x for H_x | rotate -pi/2 over Y axis\n",
    "Ry(0, reg_x, angle_value=-np.pi/2)\n",
    "Ry(1, reg_x, angle_value=-np.pi/2)\n",
    "ansatz_x = reg_x.psi.flatten()\n",
    "Z(0, reg_x)\n",
    "Z(1, reg_x)\n",
    "\n",
    "expected_x = -1/2 * np.dot(ansatz_x.conjugate(), reg_x.psi.flatten())\n",
    "\n",
    "reg_y = Reg(2)\n",
    "\n",
    "H(0, reg_y)\n",
    "CNOT(0, 1, reg_y)\n",
    "Rx(0, reg_y)\n",
    "\n",
    "# ansatz_y for H_y | rotate pi/2 over X axis\n",
    "Rx(0, reg_y, angle_value=np.pi/2)\n",
    "Rx(1, reg_y, angle_value=np.pi/2)\n",
    "ansatz_y = reg_y.psi.flatten()\n",
    "Z(0, reg_y)\n",
    "Z(1, reg_y)\n",
    "\n",
    "expected_y = -1/2 * np.dot(ansatz_y.conjugate(), reg_y.psi.flatten())"
   ]
  },
  {
   "cell_type": "markdown",
   "metadata": {},
   "source": [
    "On the previous code we have defined 3 `register` as ansatz and then we apllied differents quantum gates on them (to measure in quantum basis as we did on `sympy` code). Why not just 1 `register`? Well, the habitual procedure on quantum computing is prepare an ansatz, let that state evoluting by the action of Hamiltonian, measure and repeat. So in this approach we can prepare the same ansatz and apply parts of our Hamiltonian considering as a simple Hamiltonian itself\n",
    "\n",
    "$$ \n",
    "H = \\frac{1}{2} I\\otimes I + \\frac{1}{2} Z\\otimes Z - \\frac{1}{2} Y\\otimes Y - \\frac{1}{2} X\\otimes X = \n",
    "\\frac{1}{2} H_I + \\frac{1}{2} H_z - \\frac{1}{2} H_y - \\frac{1}{2} H_x\n",
    "$$\n",
    "\n",
    "$$ \n",
    "H|\\psi({\\theta})\\rangle = \n",
    "\\frac{1}{2} H_I|\\psi({\\theta})\\rangle \n",
    "+ \\frac{1}{2} H_z|\\psi({\\theta})\\rangle \n",
    "- \\frac{1}{2} H_y|\\psi_y({\\theta})\\rangle \n",
    "- \\frac{1}{2} H_x|\\psi_x({\\theta})\\rangle\n",
    "$$\n",
    "\n",
    "where \n",
    "$$|\\psi({\\theta})\\rangle = Rx_1(\\theta)C_{NOT}H_1|00\\rangle$$\n",
    "\n",
    "$$|\\psi_x({\\theta})\\rangle = Rx_1\\left(\\frac{\\pi}{2}\\right) Rx_2\\left(\\frac{\\pi}{2}\\right) Rx_1(\\theta)C_{NOT}H_1|00\\rangle$$\n",
    "\n",
    "$$|\\psi_y({\\theta})\\rangle = Ry_1\\left(\\frac{-\\pi}{2}\\right) Ry_2\\left(\\frac{-\\pi}{2}\\right)Rx_1(\\theta)C_{NOT}H_1|00\\rangle$$"
   ]
  },
  {
   "cell_type": "code",
   "execution_count": 12,
   "metadata": {},
   "outputs": [
    {
     "name": "stderr",
     "output_type": "stream",
     "text": [
      "/opt/conda/lib/python3.7/site-packages/numpy/core/_asarray.py:83: ComplexWarning: Casting complex values to real discards the imaginary part\n",
      "  return array(a, dtype, copy=False, order=order)\n"
     ]
    },
    {
     "data": {
      "image/png": "[encoded data removed]",
      "text/plain": [
       "<Figure size 432x288 with 1 Axes>"
      ]
     },
     "metadata": {
      "needs_background": "light"
     },
     "output_type": "display_data"
    },
    {
     "name": "stdout",
     "output_type": "stream",
     "text": [
      "Minimal Eigenvalue:  (-0.9999999999999991+0j)\n"
     ]
    }
   ],
   "source": [
    "expected = expected_I + expected_z + expected_x + expected_y\n",
    "theta_range = np.linspace(0.0, 2 * np.pi, 25)\n",
    "f = lambdify(theta, expected, \"numpy\")\n",
    "data = f(theta_range)\n",
    "\n",
    "plt.xlabel(\"Parameter value\")\n",
    "plt.ylabel(\"Expectation value\")\n",
    "plt.plot(theta_range, data)\n",
    "plt.show()\n",
    "print(\"Minimal Eigenvalue: \", min(data))"
   ]
  },
  {
   "cell_type": "markdown",
   "metadata": {},
   "source": [
    "And this is the same result we obtain on previous section."
   ]
  },
  {
   "cell_type": "markdown",
   "metadata": {},
   "source": [
    "## References\n",
    "\n",
    "[Quantum Open Source Foundation](https://qosf.org/)\n",
    "\n",
    "Quantum Computation and Quantum Information (Michael A. Nielsen, Isaac L. Chuang)\n",
    "\n",
    "[A variational eigenvalue solver on a photonic quantum processor](https://www.nature.com/articles/ncomms5213)\n",
    "\n",
    "[Subspace-search variational quantum eigensolver for excited states](https://arxiv.org/abs/1810.09434)"
   ]
  }
 ],
 "metadata": {
  "kernelspec": {
   "display_name": "Python 3",
   "language": "python",
   "name": "python3"
  },
  "language_info": {
   "codemirror_mode": {
    "name": "ipython",
    "version": 3
   },
   "file_extension": ".py",
   "mimetype": "text/x-python",
   "name": "python",
   "nbconvert_exporter": "python",
   "pygments_lexer": "ipython3",
   "version": "3.7.8"
  }
 },
 "nbformat": 4,
 "nbformat_minor": 4
}
