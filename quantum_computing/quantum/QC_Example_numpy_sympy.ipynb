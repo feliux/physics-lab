{
 "cells": [
  {
   "cell_type": "code",
   "execution_count": 1,
   "metadata": {},
   "outputs": [],
   "source": [
    "import numpy as np\n",
    "from scipy.linalg import norm\n",
    "from sympy import Symbol, Matrix, diag, eye, cos, sin, exp, pi, lambdify\n",
    "from sympy.physics.quantum import Dagger, TensorProduct\n",
    "import matplotlib.pyplot as plt\n",
    "\n",
    "j = np.complex(0, 1)\n",
    "\n",
    "pauli_x = np.array([[0, 1], [1, 0]])\n",
    "pauli_y = np.array([[0, -j], [j, 0]])\n",
    "pauli_z = np.array([[1, 0], [0, -1]])\n",
    "\n",
    "I = np.array([[1, 0], [0, 1]])\n",
    "\n",
    "H_matrix = 1/np.sqrt(2) * np.array([[1, 1], [1, -1]])\n",
    "\n",
    "CNOT_matrix = np.array([[1,0,0,0],\n",
    "                        [0,1,0,0],\n",
    "                        [0,0,0,1],\n",
    "                        [0,0,1,0]])\n",
    "\n",
    "CNOT_tensor = np.reshape(CNOT_matrix, (2,2,2,2))\n",
    "\n",
    "class Reg: \n",
    "    def __init__(self, n):\n",
    "        self.n = n\n",
    "        self.psi = np.zeros((2,) * n) \n",
    "        self.psi[(0,) * n] = 1        \n",
    "\n",
    "#def I(i, reg):\n",
    "#    reg.psi = np.tensordot(I, reg.psi, (1, i)) \n",
    "#    reg.psi = np.moveaxis(reg.psi, 0, i)\n",
    "    \n",
    "def H(i, reg):\n",
    "    reg.psi = np.tensordot(H_matrix, reg.psi, (1, i)) \n",
    "    reg.psi = np.moveaxis(reg.psi, 0, i)\n",
    "    \n",
    "def Z(i, reg):\n",
    "    reg.psi = np.tensordot(pauli_z, reg.psi, (1, i)) \n",
    "    reg.psi = np.moveaxis(reg.psi, 0, i)\n",
    "    \n",
    "def Ry(i, reg, angle=\"theta\", angle_value=None):\n",
    "    angle = Symbol(angle, real=True)\n",
    "    ry = Matrix([[cos(angle/2), -sin(angle/2)], [sin(angle/2), cos(angle/2)]])\n",
    "    if angle_value is None:\n",
    "        reg.psi = np.tensordot(ry, reg.psi, (1, i))\n",
    "    else:\n",
    "        reg.psi = np.tensordot(ry.subs(angle, angle_value), reg.psi, (1, i))\n",
    "    reg.psi = np.moveaxis(reg.psi, 0, i)\n",
    "    \n",
    "def Rx(i, reg, angle=\"theta\", angle_value=None):\n",
    "    angle = Symbol(angle, real=True)\n",
    "    j = np.complex(0, 1)\n",
    "    rx = Matrix([[cos(angle/2), -j*sin(angle/2)], [-j*sin(angle/2), cos(angle/2)]])\n",
    "    if angle_value is None:\n",
    "        reg.psi = np.tensordot(rx, reg.psi, (1, i))\n",
    "    else:\n",
    "        reg.psi = np.tensordot(rx.subs(angle, angle_value), reg.psi, (1, i))\n",
    "    reg.psi = np.moveaxis(reg.psi, 0, i)\n",
    "    \n",
    "def Rz(i, reg, angle=\"theta\", angle_value=None):\n",
    "    angle = Symbol(angle, real=True)\n",
    "    j = np.complex(0, 1)\n",
    "    #rz = Matrix([[exp((-j*theta/2)), 0], [0, exp((j*theta/2))]])\n",
    "    rz = Matrix([[cos(angle/2) -j*sin(angle/2), 0], [0, cos(angle/2) +j*sin(angle/2)]])\n",
    "    if angle_value is None:\n",
    "        reg.psi = np.tensordot(rz, reg.psi, (1, i))\n",
    "    else:\n",
    "        reg.psi = np.tensordot(rz.subs(angle, angle_value), reg.psi, (1, i))\n",
    "    reg.psi = np.moveaxis(reg.psi, 0, i)\n",
    "\n",
    "def CNOT(control, target, reg):\n",
    "    reg.psi = np.tensordot(CNOT_tensor, reg.psi, ((2,3), (control, target))) \n",
    "    reg.psi = np.moveaxis(reg.psi, (0, 1), (control, target))   \n",
    "\n",
    "def measure(i, reg): \n",
    "    projectors = [np.array([[1, 0], [0, 0]]), np.array([[0, 0], [0, 1]])] \n",
    "    \n",
    "    def project(i, j, reg): \n",
    "        projected = np.tensordot(projectors[j], reg.psi, (1, i))\n",
    "        return np.moveaxis(projected, 0, i)\n",
    "    \n",
    "    projected = project(i, 0, reg) \n",
    "    norm_projected = norm(projected.flatten()) \n",
    "    if np.random.random() < norm_projected ** 2: \n",
    "        reg.psi = projected/norm_projected\n",
    "        return 0\n",
    "    else:\n",
    "        projected = project(i, 1, reg)\n",
    "        reg.psi = projected/norm(projected)\n",
    "        return 1"
   ]
  },
  {
   "cell_type": "code",
   "execution_count": 2,
   "metadata": {},
   "outputs": [
    {
     "name": "stdout",
     "output_type": "stream",
     "text": [
      "[1. 0.]\n"
     ]
    }
   ],
   "source": [
    "reg = Reg(1)\n",
    "state_initial = reg.psi.flatten()\n",
    "print(reg.psi.flatten())"
   ]
  },
  {
   "cell_type": "markdown",
   "metadata": {},
   "source": [
    "#### hamiltonian = pauli_z"
   ]
  },
  {
   "cell_type": "code",
   "execution_count": 3,
   "metadata": {},
   "outputs": [
    {
     "name": "stdout",
     "output_type": "stream",
     "text": [
      "[1.0*cos(theta/2) 1.0*sin(theta/2)]\n"
     ]
    }
   ],
   "source": [
    "Ry(0, reg)\n",
    "ansatz = reg.psi.flatten()\n",
    "print(reg.psi.flatten())"
   ]
  },
  {
   "cell_type": "code",
   "execution_count": 4,
   "metadata": {},
   "outputs": [
    {
     "name": "stdout",
     "output_type": "stream",
     "text": [
      "[1.0*cos(theta/2) -1.0*sin(theta/2)]\n"
     ]
    }
   ],
   "source": [
    "Z(0, reg)\n",
    "print(reg.psi.flatten())"
   ]
  },
  {
   "cell_type": "code",
   "execution_count": 5,
   "metadata": {},
   "outputs": [
    {
     "data": {
      "text/latex": [
       "$\\displaystyle - 1.0 \\sin^{2}{\\left(\\frac{\\theta}{2} \\right)} + 1.0 \\cos^{2}{\\left(\\frac{\\theta}{2} \\right)}$"
      ],
      "text/plain": [
       "-1.0*sin(theta/2)**2 + 1.0*cos(theta/2)**2"
      ]
     },
     "execution_count": 5,
     "metadata": {},
     "output_type": "execute_result"
    }
   ],
   "source": [
    "expected = np.dot(ansatz, reg.psi.flatten())\n",
    "expected"
   ]
  },
  {
   "cell_type": "code",
   "execution_count": 6,
   "metadata": {},
   "outputs": [
    {
     "name": "stdout",
     "output_type": "stream",
     "text": [
      "Minimal Energy:  -1.0\n"
     ]
    },
    {
     "data": {
      "image/png": "[encoded data removed]",
      "text/plain": [
       "<Figure size 432x288 with 1 Axes>"
      ]
     },
     "metadata": {
      "needs_background": "light"
     },
     "output_type": "display_data"
    }
   ],
   "source": [
    "theta = Symbol(\"theta\", real=True)\n",
    "theta_range = np.linspace(0.0, 2 * np.pi, 25)\n",
    "f = lambdify(theta, expected, \"numpy\")\n",
    "data = f(theta_range)\n",
    "print(\"Minimal Energy: \", min(data))\n",
    "\n",
    "plt.xlabel(\"Parameter value\")\n",
    "plt.ylabel(\"Expectation value\")\n",
    "plt.plot(theta_range, data)\n",
    "plt.show()"
   ]
  },
  {
   "cell_type": "markdown",
   "metadata": {},
   "source": [
    "#### hamiltonian = 2*pauli_z + pauli_x + I"
   ]
  },
  {
   "cell_type": "code",
   "execution_count": 7,
   "metadata": {},
   "outputs": [
    {
     "name": "stdout",
     "output_type": "stream",
     "text": [
      "Minimal Energy:  -1.2320508075688779\n"
     ]
    },
    {
     "data": {
      "image/png": "[encoded data removed]",
      "text/plain": [
       "<Figure size 432x288 with 1 Axes>"
      ]
     },
     "metadata": {
      "needs_background": "light"
     },
     "output_type": "display_data"
    }
   ],
   "source": [
    "reg_z = Reg(1)\n",
    "reg_x = Reg(1)\n",
    "reg_I = Reg(1)\n",
    "state_initial = reg_z.psi.flatten()\n",
    "\n",
    "Ry(0, reg_z)\n",
    "Ry(0, reg_x)\n",
    "Ry(0, reg_I)\n",
    "\n",
    "ansatz_z = reg_z.psi.flatten()\n",
    "Z(0, reg_z)\n",
    "\n",
    "Ry(0, reg_x, angle_value=-np.pi/2)\n",
    "ansatz_x = reg_x.psi.flatten()\n",
    "Z(0, reg_x)\n",
    "\n",
    "#I(0, reg_I)\n",
    "#ansatz_z = reg_z.psi.flatten()\n",
    "\n",
    "expected = 2 * np.dot(ansatz_z, reg_z.psi.flatten()) + np.dot(ansatz_x, reg_x.psi.flatten()) + np.dot(ansatz_z, reg_I.psi.flatten())\n",
    "\n",
    "theta = Symbol(\"theta\", real=True)\n",
    "theta_range = np.linspace(0.0, 2 * np.pi, 25)\n",
    "f = lambdify(theta, expected, \"numpy\")\n",
    "data = f(theta_range)\n",
    "print(\"Minimal Energy: \", min(data))\n",
    "\n",
    "plt.xlabel(\"Parameter value\")\n",
    "plt.ylabel(\"Expectation value\")\n",
    "plt.plot(theta_range, data)\n",
    "plt.show()"
   ]
  },
  {
   "cell_type": "markdown",
   "metadata": {},
   "source": [
    "#### hamiltonian = 1/2 IxI + 1/2 ZxZ - 1/2 YxY - 1/2 XxX"
   ]
  },
  {
   "cell_type": "markdown",
   "metadata": {},
   "source": [
    "$1/2 IxI + 1/2 ZxZ$"
   ]
  },
  {
   "cell_type": "code",
   "execution_count": 8,
   "metadata": {},
   "outputs": [],
   "source": [
    "reg_z = Reg(2)\n",
    "\n",
    "H(0, reg_z)\n",
    "CNOT(0, 1, reg_z)\n",
    "Rx(0, reg_z)\n",
    "\n",
    "ansatz_z = reg_z.psi.flatten()\n",
    "Z(0, reg_z)\n",
    "Z(1, reg_z)\n",
    "\n",
    "expected_z = 1/2 * np.dot(ansatz_z.conjugate(), reg_z.psi.flatten())\n",
    "expected_I = 1/2 * np.dot(ansatz_z.conjugate(), ansatz_z)"
   ]
  },
  {
   "cell_type": "code",
   "execution_count": 9,
   "metadata": {},
   "outputs": [
    {
     "data": {
      "text/latex": [
       "$\\displaystyle - 0.5 \\sin^{2}{\\left(\\frac{\\theta}{2} \\right)} + 0.5 \\cos^{2}{\\left(\\frac{\\theta}{2} \\right)}$"
      ],
      "text/plain": [
       "-0.5*sin(theta/2)**2 + 0.5*cos(theta/2)**2"
      ]
     },
     "execution_count": 9,
     "metadata": {},
     "output_type": "execute_result"
    }
   ],
   "source": [
    "expected_z"
   ]
  },
  {
   "cell_type": "code",
   "execution_count": 10,
   "metadata": {},
   "outputs": [
    {
     "data": {
      "text/latex": [
       "$\\displaystyle 0.5 \\sin^{2}{\\left(\\frac{\\theta}{2} \\right)} + 0.5 \\cos^{2}{\\left(\\frac{\\theta}{2} \\right)}$"
      ],
      "text/plain": [
       "0.5*sin(theta/2)**2 + 0.5*cos(theta/2)**2"
      ]
     },
     "execution_count": 10,
     "metadata": {},
     "output_type": "execute_result"
    }
   ],
   "source": [
    "expected_I"
   ]
  },
  {
   "cell_type": "markdown",
   "metadata": {},
   "source": [
    "$- 1/2 XxX$"
   ]
  },
  {
   "cell_type": "code",
   "execution_count": 11,
   "metadata": {},
   "outputs": [],
   "source": [
    "reg_x = Reg(2)\n",
    "\n",
    "H(0, reg_x)\n",
    "CNOT(0, 1, reg_x)\n",
    "Rx(0, reg_x)\n",
    "\n",
    "# ansatz_x for H_x | rotate -pi/2 over Y axis\n",
    "Ry(0, reg_x, angle_value=-np.pi/2)\n",
    "Ry(1, reg_x, angle_value=-np.pi/2)\n",
    "ansatz_x = reg_x.psi.flatten()\n",
    "Z(0, reg_x)\n",
    "Z(1, reg_x)\n",
    "\n",
    "expected_x = -1/2 * np.dot(ansatz_x.conjugate(), reg_x.psi.flatten())"
   ]
  },
  {
   "cell_type": "code",
   "execution_count": 12,
   "metadata": {},
   "outputs": [
    {
     "data": {
      "text/latex": [
       "$\\displaystyle - 1.0 \\left(- 0.707106781186547 i \\sin{\\left(\\frac{\\theta}{2} \\right)} + 0.707106781186547 \\cos{\\left(\\frac{\\theta}{2} \\right)}\\right) \\left(0.707106781186547 i \\sin{\\left(\\frac{\\theta}{2} \\right)} + 0.707106781186547 \\cos{\\left(\\frac{\\theta}{2} \\right)}\\right) + 1.23259516440783 \\cdot 10^{-32} \\sin^{2}{\\left(\\frac{\\theta}{2} \\right)}$"
      ],
      "text/plain": [
       "-1.0*(-0.707106781186547*I*sin(theta/2) + 0.707106781186547*cos(theta/2))*(0.707106781186547*I*sin(theta/2) + 0.707106781186547*cos(theta/2)) + 1.23259516440783e-32*sin(theta/2)**2"
      ]
     },
     "execution_count": 12,
     "metadata": {},
     "output_type": "execute_result"
    }
   ],
   "source": [
    "expected_x"
   ]
  },
  {
   "cell_type": "markdown",
   "metadata": {},
   "source": [
    "$- 1/2 YxY$"
   ]
  },
  {
   "cell_type": "code",
   "execution_count": 13,
   "metadata": {},
   "outputs": [],
   "source": [
    "reg_y = Reg(2)\n",
    "\n",
    "H(0, reg_y)\n",
    "CNOT(0, 1, reg_y)\n",
    "Rx(0, reg_y)\n",
    "\n",
    "# ansatz_y for H_y | rotate pi/2 over X axis\n",
    "Rx(0, reg_y, angle_value=np.pi/2)\n",
    "Rx(1, reg_y, angle_value=np.pi/2)\n",
    "ansatz_y = reg_y.psi.flatten()\n",
    "Z(0, reg_y)\n",
    "Z(1, reg_y)\n",
    "\n",
    "expected_y = -1/2 * np.dot(ansatz_y.conjugate(), reg_y.psi.flatten())"
   ]
  },
  {
   "cell_type": "code",
   "execution_count": 14,
   "metadata": {},
   "outputs": [
    {
     "data": {
      "text/latex": [
       "$\\displaystyle - 1.0 \\left(- 0.707106781186547 i \\left(- 0.5 i \\sin{\\left(\\frac{\\theta}{2} \\right)} - 0.5 i \\cos{\\left(\\frac{\\theta}{2} \\right)}\\right) - 0.353553390593274 \\sin{\\left(\\frac{\\theta}{2} \\right)} + 0.353553390593274 \\cos{\\left(\\frac{\\theta}{2} \\right)}\\right) \\left(0.707106781186547 i \\left(0.5 i \\sin{\\left(\\frac{\\theta}{2} \\right)} + 0.5 i \\cos{\\left(\\frac{\\theta}{2} \\right)}\\right) - 0.353553390593274 \\sin{\\left(\\frac{\\theta}{2} \\right)} + 0.353553390593274 \\cos{\\left(\\frac{\\theta}{2} \\right)}\\right) - 0.5 \\left(i \\left(- 0.5 \\sin{\\left(\\frac{\\theta}{2} \\right)} + 0.5 \\cos{\\left(\\frac{\\theta}{2} \\right)}\\right) + 0.5 i \\sin{\\left(\\frac{\\theta}{2} \\right)} + 0.5 i \\cos{\\left(\\frac{\\theta}{2} \\right)}\\right)^{2}$"
      ],
      "text/plain": [
       "-1.0*(-0.707106781186547*I*(-0.5*I*sin(theta/2) - 0.5*I*cos(theta/2)) - 0.353553390593274*sin(theta/2) + 0.353553390593274*cos(theta/2))*(0.707106781186547*I*(0.5*I*sin(theta/2) + 0.5*I*cos(theta/2)) - 0.353553390593274*sin(theta/2) + 0.353553390593274*cos(theta/2)) - 0.5*(I*(-0.5*sin(theta/2) + 0.5*cos(theta/2)) + 0.5*I*sin(theta/2) + 0.5*I*cos(theta/2))**2"
      ]
     },
     "execution_count": 14,
     "metadata": {},
     "output_type": "execute_result"
    }
   ],
   "source": [
    "expected_y"
   ]
  },
  {
   "cell_type": "code",
   "execution_count": 15,
   "metadata": {},
   "outputs": [
    {
     "name": "stdout",
     "output_type": "stream",
     "text": [
      "Minimal Energy:  (-0.9994965423831845+0j)\n"
     ]
    },
    {
     "name": "stderr",
     "output_type": "stream",
     "text": [
      "/opt/conda/lib/python3.7/site-packages/numpy/core/_asarray.py:83: ComplexWarning: Casting complex values to real discards the imaginary part\n",
      "  return array(a, dtype, copy=False, order=order)\n"
     ]
    },
    {
     "data": {
      "image/png": "[encoded data removed]",
      "text/plain": [
       "<Figure size 432x288 with 1 Axes>"
      ]
     },
     "metadata": {
      "needs_background": "light"
     },
     "output_type": "display_data"
    }
   ],
   "source": [
    "expected = expected_I + expected_z + expected_x + expected_y\n",
    "theta_range = np.linspace(0.0, 2 * np.pi, 100)\n",
    "f = lambdify(theta, expected, \"numpy\")\n",
    "data = f(theta_range)\n",
    "print(\"Minimal Energy: \", min(data))\n",
    "\n",
    "plt.xlabel(\"Parameter value\")\n",
    "plt.ylabel(\"Expectation value\")\n",
    "plt.plot(theta_range, data)\n",
    "plt.show()"
   ]
  },
  {
   "cell_type": "code",
   "execution_count": null,
   "metadata": {},
   "outputs": [],
   "source": []
  }
 ],
 "metadata": {
  "kernelspec": {
   "display_name": "Python 3",
   "language": "python",
   "name": "python3"
  },
  "language_info": {
   "codemirror_mode": {
    "name": "ipython",
    "version": 3
   },
   "file_extension": ".py",
   "mimetype": "text/x-python",
   "name": "python",
   "nbconvert_exporter": "python",
   "pygments_lexer": "ipython3",
   "version": "3.7.8"
  }
 },
 "nbformat": 4,
 "nbformat_minor": 4
}
