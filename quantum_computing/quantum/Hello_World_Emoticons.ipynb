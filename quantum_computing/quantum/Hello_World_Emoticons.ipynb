{
 "cells": [
  {
   "cell_type": "markdown",
   "metadata": {},
   "source": [
    "# \"Hola mundo\" cuántico"
   ]
  },
  {
   "cell_type": "markdown",
   "metadata": {},
   "source": [
    "La versión cuántica más directa de esto sería simplemente escribir una versión codificada en binario del texto Hello World en un registro de qubits. Pero esto requeriría ~ 100 qubits.\n",
    "\n",
    "Así que vamos a escribir un fragmento de texto más corto. Escribamos \";)\", necesitamos un poco de cadena de longitud 16. Específicamente, usando codificación ASCII: ;)  =  00111011 00101001"
   ]
  },
  {
   "cell_type": "code",
   "execution_count": null,
   "metadata": {},
   "outputs": [],
   "source": [
    "from qiskit import ClassicalRegister, QuantumRegister, QuantumCircuit\n",
    "from qiskit import execute\n",
    "from qiskit import BasicAer as Aer\n",
    "from qiskit.tools.visualization import circuit_drawer\n",
    "\n",
    "\n",
    "# Set up registers and program\n",
    "qr = QuantumRegister(16)\n",
    "cr = ClassicalRegister(16)\n",
    "qc = QuantumCircuit(qr,cr)\n",
    "\n",
    "# Rightmost eight (qu)bits have ')' = 00101001\n",
    "qc.x(qr[0])\n",
    "qc.x(qr[3])\n",
    "qc.x(qr[5])\n",
    "\n",
    "# Eecond eight (qu)bits have 00111011\n",
    "qc.x(qr[9])\n",
    "qc.x(qr[8])\n",
    "qc.x(qr[11])\n",
    "qc.x(qr[12])\n",
    "qc.x(qr[13])\n",
    "#print(qc)\n",
    "\n",
    "# measure\n",
    "for j in range(16):\n",
    "    qc.measure(qr[j], cr[j])\n",
    "    \n",
    "circuit_drawer(qc)"
   ]
  },
  {
   "cell_type": "markdown",
   "metadata": {},
   "source": [
    "Por supuesto, esto no es muy cuántico. Entonces, podrías hacer una superposición de dos emoticones diferentes. El ejemplo más fácil es superponer;) con 8), ya que las cadenas de bits para estos solo difieren en los qubits 8 y 9.\n",
    "\n",
    ";) =  00111011 00101001 <br>\n",
    "8) = 00111000 00101001"
   ]
  },
  {
   "cell_type": "code",
   "execution_count": null,
   "metadata": {},
   "outputs": [],
   "source": [
    "# Set up registers and program\n",
    "qr = QuantumRegister(16)\n",
    "cr = ClassicalRegister(16)\n",
    "qc = QuantumCircuit(qr,cr)\n",
    "\n",
    "# Rightmost eight (qu)bits have ')' = 00101001\n",
    "qc.x(qr[0])\n",
    "qc.x(qr[3])\n",
    "qc.x(qr[5])\n",
    "\n",
    "# Eecond eight (qu)bits have 00111011\n",
    "qc.h(qr[9]) # create superposition on 9\n",
    "qc.cx(qr[9],qr[8]) # spread it to 8 with a cnot\n",
    "qc.x(qr[11])\n",
    "qc.x(qr[12])\n",
    "qc.x(qr[13])\n",
    "#print(qc)\n",
    "\n",
    "# measure\n",
    "for j in range(16):\n",
    "    qc.measure(qr[j], cr[j])\n",
    "    \n",
    "circuit_drawer(qc)"
   ]
  },
  {
   "cell_type": "markdown",
   "metadata": {},
   "source": [
    "Hadamard crea una superposición de 0 y 1 , y el cnot lo convierte en una superposición de 00 y 11 en dos qubits Esta es la única superposición requerida para ;) y 8) ."
   ]
  }
 ],
 "metadata": {
  "kernelspec": {
   "display_name": "Python 3",
   "language": "python",
   "name": "python3"
  },
  "language_info": {
   "codemirror_mode": {
    "name": "ipython",
    "version": 3
   },
   "file_extension": ".py",
   "mimetype": "text/x-python",
   "name": "python",
   "nbconvert_exporter": "python",
   "pygments_lexer": "ipython3",
   "version": "3.7.3"
  }
 },
 "nbformat": 4,
 "nbformat_minor": 2
}
