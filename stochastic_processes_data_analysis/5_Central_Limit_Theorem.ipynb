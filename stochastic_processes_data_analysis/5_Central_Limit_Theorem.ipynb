{
 "cells": [
  {
   "cell_type": "markdown",
   "metadata": {
    "slideshow": {
     "slide_type": "slide"
    }
   },
   "source": [
    "\n",
    "# The Central Limit Theorem\n",
    "\n",
    "- [Introduction](#intro)\n",
    "- [Binomial distribution to Gauss distribution](#bi_to_normal)\n",
    "- [The Central Limit Theorem](#clt)\n",
    "- [Uniform distribution to Gauss distribution](#uni_to_normal)\n",
    "- [Extra](#extra)"
   ]
  },
  {
   "cell_type": "markdown",
   "metadata": {
    "slideshow": {
     "slide_type": "notes"
    }
   },
   "source": [
    "<div id=\"intro\" />\n",
    "\n",
    "## Introduction\n",
    "\n",
    "We will introduce the \"Central Limit Theorem\", which is probably the single most important theorem in the theory of probability. \n",
    "\n",
    "The theorem helps to explain why the Gaussian or Normal distribution finds such widespread applications in natural and social sciences. Briefly stated, it says that **the sum of N independent random variables**, which can be drawn from any arbitrary, but well behaved distributions, **will converge to a Gaussian distribution in the limit of large N**."
   ]
  },
  {
   "cell_type": "markdown",
   "metadata": {
    "slideshow": {
     "slide_type": "slide"
    }
   },
   "source": [
    "<div id=\"bi_to_normal\" />\n",
    "\n",
    "## Binomial distribution $\\rightarrow$ Gauss distribution\n",
    "\n",
    "The binomial distribution P(n,M), which describes a random process with two possible outcomes. The standard example is that of a coin toss, which can come up heads with probability $p$, and tails with probability $(1-p)$.\n",
    "\n",
    "The probability to observe $n$ heads after $M$ throws is given by equation (C1). In the limit when both $n$ and $M$ are very large, we have seen that the binomial distribution converges to the Gaussian distribution with average $\\mu_1 = M p$ and variance $\\sigma^2 = M p (1-p)$. This is a trivial application of the central limit theorem. It works, because the result of each coin toss is given by an independent random process with a well defined average and variance.\n",
    "\n",
    "The binomial distribution becomes equivalent to the Gaussian distribution in the limit $n, M\\gg 1$, as shown in the 1st plot of this week.\n",
    "\n",
    "\\begin{equation}\n",
    "P(n)=\\frac{M!}{n!(M-n)!}{{p}^{n}}{{(1-p)}^{M-n}}\\tag{C1}\n",
    "\\end{equation}\n",
    "\n",
    "\\begin{equation}\n",
    "\\hspace{20mm}\n",
    "\\xrightarrow[n\\to cont.]{n,M\\gg 1}\\ \n",
    "% P(n)=\n",
    "\\frac{1}{\\sqrt{2\\pi {{\\sigma }^{2}}}}\\exp \\left[ -\\frac{{{(n-{{\\mu }_{1}})}^{2}}}{2{{\\sigma }^{2}}} \\right]\\tag{C2}\n",
    "\\end{equation}\n",
    "\n",
    "\\begin{equation}\n",
    "\\hspace{20mm}\n",
    "\\mu_1=Mp,\\ \\ \\ \\ \n",
    "\\sigma^2=Mp(1-p) \\tag{C3, C4}\n",
    "\\end{equation}"
   ]
  },
  {
   "cell_type": "markdown",
   "metadata": {
    "slideshow": {
     "slide_type": "slide"
    }
   },
   "source": [
    "##### Numerical experiment 1\n",
    "\n",
    "Let us examine this by performing numerical experiments for various values of $M=1,2,4,10,100$ and $1000$."
   ]
  },
  {
   "cell_type": "code",
   "execution_count": 1,
   "metadata": {},
   "outputs": [],
   "source": [
    "import numpy as np\n",
    "import math\n",
    "import matplotlib.pyplot as plt\n",
    "%matplotlib inline\n",
    "plt.style.use(\"ggplot\")"
   ]
  },
  {
   "cell_type": "code",
   "execution_count": 2,
   "metadata": {
    "slideshow": {
     "slide_type": "slide"
    }
   },
   "outputs": [
    {
     "name": "stdout",
     "output_type": "stream",
     "text": [
      "Probability P = 0.5 ; Number of tosses M = 50\n"
     ]
    },
    {
     "data": {
      "image/png": "[encoded data removed]",
      "text/plain": [
       "<Figure size 432x288 with 1 Axes>"
      ]
     },
     "metadata": {},
     "output_type": "display_data"
    }
   ],
   "source": [
    "p = 0.5\n",
    "M = 50\n",
    "N = 100000\n",
    "ave = M*p\n",
    "std = np.sqrt(M*p*(1-p))\n",
    "print(\"Probability P =\", p,\"; Number of tosses M =\", M)\n",
    "\n",
    "np.random.seed(0)\n",
    "\n",
    "# Binomial function\n",
    "X = np.random.binomial(M, p, N)\n",
    "\n",
    "nmin = np.int(ave-std*5)\n",
    "nmax = np.int(ave+std*5)\n",
    "nbin = nmax - nmin + 1\n",
    "plt.hist(X, range=[nmin,nmax], bins=nbin, density=True)\n",
    "x = np.arange(nmin, nmax, 0.01/std)\n",
    "y = np.exp(-(x-ave)**2/(2*std**2))/np.sqrt(2*np.pi*std**2) # calculate the theoretical distribution\n",
    "\n",
    "plt.plot(x, y, color=\"b\")\n",
    "plt.xlabel(r\"$n$\", fontsize=16)\n",
    "plt.ylabel(r\"$P(n)$\", fontsize=16)\n",
    "plt.legend([r\"Gauss\", r\"histgram\"], fontsize=16)\n",
    "plt.show()"
   ]
  },
  {
   "cell_type": "markdown",
   "metadata": {
    "slideshow": {
     "slide_type": "notes"
    }
   },
   "source": [
    "You should repeat this experiment for several values of `M = [1, 2, 4, 10, 100, 1000]`, to see how the histogram converges towards the Gauss distribution. The convergence is assured in the limit of large n and M. In practice, you can know how large should M be for the two distributions to match."
   ]
  },
  {
   "cell_type": "markdown",
   "metadata": {
    "slideshow": {
     "slide_type": "slide"
    }
   },
   "source": [
    "#### What we can learn from the experiment\n",
    "\n",
    "Let us discuss what we have seen in the experiments.\n",
    "\n",
    "First we define a stochastic variable \"s\" which is a result of single binary choice from 0 or 1. The total number of heads, after M tosses, is given by the sum of all \"s\" from the 1st to the M-th choices. This defines a new stochastic variable $n^M$.\n",
    "\n",
    "Stochastic variable \"$s$\" is a result of single binary choice, \n",
    "\n",
    "\\begin{equation}\n",
    "s=0\\ {\\rm or}\\ 1 \n",
    "%\\tag{D1}\n",
    "\\end{equation}\n",
    "\n",
    "and Stochastic variable \"$n^{M}$\" is a sum of $M$ independent binary choices $s$, with the index $j$ representing the $j$-th choice.\n",
    "\n",
    "\\begin{equation}\n",
    "%\\color{red}\n",
    "{\n",
    "n^{M}=\\sum^{M}_{j=1}s_j} \n",
    "%\\tag{D4}\n",
    "\\end{equation}\n",
    "\n",
    "- **$M=1$**\n",
    "\n",
    "Consider the case of a single coin toss for M=1, for which n of M is the same as a single binary choice $s$ as shown in Eq.(D1). Since this random variable is drawn from a binomial distribution, the average and variance are given by equations (D2) and (D3). Namely, the average number of heads, from one coin toss is equal to p, and the variance is equal to p*(1-p).\n",
    "\n",
    "\\begin{equation}\n",
    "n^{M=1}=s_1=s=0\\ {\\rm or}\\ 1 \n",
    "\\tag{D1}\n",
    "\\end{equation}\n",
    "\n",
    "Distribution function $\\rightarrow$ Binary choice,\n",
    "\n",
    "$P^{M=1}(0)=1-p, \\ P^{M=1}(1)=p, $ with\n",
    "\n",
    "\\begin{equation}\n",
    "\\hspace{15mm}\\mu^{M=1}_1=p, \\hspace{23mm} \\sigma_{M=1}^2=p(1-p) \\tag{D2, D3}\n",
    "\\end{equation}\n",
    "\n",
    "- **$M\\gg 1$**\n",
    "\n",
    "Now, consider the case for arbitrary M. As we already discussed above, n of M is given by the sum all \"s\" up to the M-th choices, or equivalently as the sum of M independent single coin toss results n of M=1 as shown in Eq.(D4). In the limit when M is very large, we have already proven that this converges to a Gaussian. The average and variance of this distribution, is just the average and variance of the distribution for a single coin toss multiplied by M, shown in Eqs.(D5) and (D6).\n",
    "\n",
    "\\begin{equation}\n",
    "n^{M}=\\sum^{M}_{j=1}s_j=\\sum^{M}_{j=1}n^{M=1}_j  \n",
    "\\tag{D4}\n",
    "\\end{equation}\n",
    "\n",
    "Distribution function $\\rightarrow$ Gaussian with\n",
    "\n",
    "\\begin{equation}\n",
    "%\\hspace{20mm}\n",
    "\\mu^{M\\gg1}_1=M\\mu^{M=1}_1,\\hspace{20mm} \\sigma_{M\\gg1}^2=M\\sigma_{M=1}^2 \n",
    "\\tag{D5, D6}\n",
    "\\end{equation}"
   ]
  },
  {
   "cell_type": "markdown",
   "metadata": {
    "slideshow": {
     "slide_type": "slide"
    }
   },
   "source": [
    "<div id=\"clt\" />\n",
    "\n",
    "## The Central Limit Theorem (CLT)\n",
    "\n",
    "### Generalization of Eqs. (D4-D6) for $M\\gg 1$ \n",
    "\n",
    "The previous relation between binomial and Gaussian distributions is in fact an example of the Central Limiting Theorem. It is not valid only for the sum of random variables drawn from binomial distributions, but is applicable to any distributions with finite variance. Thus, if we have a set of $M$ independent random variables, $n$ of $M=1$, with average and variance $\\mu_1$ and $\\sigma^2$ of $M=1$.\n",
    "\n",
    "#### CLT for sum of stochastic variables\n",
    "\n",
    "Stochastic variable $n^M$ as a **SUM** of any $M$ independent stochastic variables $n^{M=1}$ with $\\mu_1^{M=1}$ and $\\sigma_{M=1}^2$,\n",
    "\n",
    "\\begin{equation}\n",
    "n^{M}=\\sum^{M}_{j=1}n^{M=1}_j \\tag{D7}\n",
    "\\end{equation}\n",
    "- Distribution function $\\rightarrow$ Gauss with\n",
    "\n",
    "\\begin{equation}\n",
    "%\\hspace{20mm}\n",
    "{\n",
    "\\mu^{M\\gg1}_1=M\\mu^{M=1}_1,\\hspace{20mm} \\sigma_{M\\gg1}^2=M\\sigma_{M=1}^2} \\tag{D8, D9}\n",
    "\\end{equation}\n",
    "\n",
    "The sum of these random variables is itself a random variable, and in the limit when $M$ is very large, it converges to a Gaussian distribution. The average and variance of n of $M >> 1$, which is the sum of the $M$ independent random variables, is given by Eqs.(D8) and (D9) which are generalizations of Eq.(D5) and (D6). \n",
    "\n",
    "The average and variance of this sum are then $M$ times the average and variance of the individual distribution.\n",
    "\n",
    "#### CLT for average of stochastic variables\n",
    "\n",
    "Stochastic variable $n^M$ as an **AVERAGE** of any $M$ independent stochastic variables with $\\mu^{M=1}$ and $\\sigma_{M=1}^2$,\n",
    "\n",
    "\\begin{equation}\n",
    "n^{M}=\\frac{1}{M}\\sum^{M}_{j=1}n^{M=1}_j \\tag{D10}\n",
    "\\end{equation}\n",
    "- Distribution function $\\rightarrow$ Gauss with\n",
    "\n",
    "\\begin{equation}\n",
    "%\\hspace{20mm}\n",
    "{\n",
    "\\mu^{M\\gg1}_1=\\mu^{M=1}_1,\\hspace{20mm} \\sigma_{M\\gg1}^2=\\frac{\\sigma_{M=1}^2}{M}} \\tag{D11, D12}\n",
    "\\end{equation}\n",
    "\n",
    "One of the most useful forms of the CLT appears when considering the average of a series of stochastic variables, not just the sum. \n",
    "\n",
    "As before, let $n_j$ of $M=1$ be a series of stochastic variables. We assume they have average and variance of $\\mu_1$ and $\\sigma^2$ of $M=1$. They should be independent and identically distributed, but other that that they can be drawn from any distribution with a finite variance. The average of these stochastic variables is given by the weighted sum in Eq.(D10). Apart from the factor of 1/M, this is exactly the same as we considered in the previous example.\n",
    "\n",
    "Now, we know that in the limit of very large $M$, the distribution of this variable converges to a Gaussian. However, because of the 1/M factor in Eq.(D10), the average and variance are now given by Eq.(D11) and (D12). Notice that the average value of $n$ of $M$ is now equal to the average value of the n of $M=1$. More importantly, the variance of $n$ of $M$ is the variance of $n$ of $M=1$ divided by $M$.\n",
    "\n",
    "Eqs. (D7-D12) is called \"the central limiting theorem\"."
   ]
  },
  {
   "cell_type": "markdown",
   "metadata": {
    "slideshow": {
     "slide_type": "-"
    }
   },
   "source": [
    "<div id=\"uni_to_normal\" />\n",
    "\n",
    "## Uniform distribution $\\rightarrow$ Gauss distribution\n",
    "\n",
    "Let us see another example of the CLT in practice. Now, instead of a binomial distribution, let us consider a continuous uniform distribution.\n",
    "\n",
    "### From CLT\n",
    "\n",
    "- **$M=1$**\n",
    "\n",
    "Stochastic variable \"$x$\" is uniformly distributed between 0 and 1, \n",
    "\n",
    "\\begin{equation}\n",
    "x^{M=1}\\in[0:1]\n",
    "\\tag{D13}\n",
    "\\end{equation}\n",
    "\n",
    "Distribution function:\n",
    "\n",
    "$P^{M=1}(x)=1 \\ ({\\rm for\\ } 0\\le x < 1),\\ P^{M=1}(x)=0\\ {\\rm (otherwise)}$\n",
    "\n",
    "\\begin{equation}\n",
    "\\hspace{15mm}\\mu^{M=1}_1=\\frac{1}{2}, \\hspace{23mm} \\sigma_{M=1}^2=\\frac{1}{12} \\tag{D14, D15}\n",
    "\\end{equation}\n",
    "\n",
    "- **$M\\gg 1$**\n",
    "\n",
    "Stochastic variable \"$x$\" is a sum of $M$ independent uniform random numbers\n",
    "\n",
    "\\begin{equation}\n",
    "{\n",
    "x^{M}=\\sum^{M}_{j=1}x^{M=1}_j} \\tag{D16}\n",
    "\\end{equation}\n",
    "\n",
    "Distribution function $\\rightarrow$ Gauss with\n",
    "\n",
    "\\begin{equation}\n",
    "%\\hspace{20mm}\n",
    "{\n",
    "\\mu^{M\\gg1}_1=M\\mu^{M=1}_1=\\frac{M}{2},\\hspace{20mm} \\sigma_{M\\gg1}^2=M\\sigma_{M=1}^2}=\\frac{M}{12} \\tag{D17, D18}\n",
    "\\end{equation}\n",
    "\n",
    "We define a stochastic variable $x$ of $M=1$, which is uniformly distributed between the unit interval. Thus, the probability density of observing any value $x$ is constant and equal to one, if $x$ lies in the unit interval, and zero if it is outside. The average and the variance can be easily calculated analytically, and are given by 1/2 and 1/12 respectively.\n",
    "\n",
    "Now, define a new stochastic variable $x$ of $M$, which is the sum of $M$ of these uniform random variables. In the limit when $M$ is very large, $x$ of $M$ is described by a Gaussian distribution with average and mean given by Eqs. (D8) and (D9). In this case, the average is just M/2 and the variance M/12."
   ]
  },
  {
   "cell_type": "markdown",
   "metadata": {
    "slideshow": {
     "slide_type": "slide"
    }
   },
   "source": [
    "##### Numerical experiment 2\n",
    "\n",
    "In this numerical experiment, we will verify that the sum of uniformly distributed random numbers converges to a Gaussian distribution with average and variance defined in Eqs.(D17) and (D18).\n",
    "\n",
    "You should try with several values of M, such as `M = [1, 2, 4, 10, 100]` to see how the distribution converges to a Gaussian. Thus, one experimental run consists of generating M random variables, and adding them to generate a sample for the cumulative variable. \n",
    "\n",
    "As you should see for yourselves, adding just 10 uniform random variables is already enough to reproduce a Gaussian distribution."
   ]
  },
  {
   "cell_type": "code",
   "execution_count": 3,
   "metadata": {},
   "outputs": [
    {
     "name": "stdout",
     "output_type": "stream",
     "text": [
      "Number od random variables M = 10\n"
     ]
    },
    {
     "data": {
      "image/png": "[encoded data removed]",
      "text/plain": [
       "<Figure size 432x288 with 1 Axes>"
      ]
     },
     "metadata": {},
     "output_type": "display_data"
    }
   ],
   "source": [
    "M = 10    # set M, the number of random variables to add. We can change this value\n",
    "N = 100000 # number samples to draw, for each of the random variables\n",
    "ave = M/2\n",
    "std = np.sqrt(M/12)\n",
    "print(\"Number od random variables M =\", M)\n",
    "\n",
    "np.random.seed(0)\n",
    "X = np.zeros(N)\n",
    "for i in range(N):\n",
    "    X[i] += np.sum(np.random.rand(M)) # draw a random numbers for each of the x_i and add to get new value for x = \\sum x_i\n",
    "\n",
    "nmin = np.int(ave - std*5)\n",
    "nmax = np.int(ave + std*5)\n",
    "plt.hist(X, range=[nmin, nmax], bins=50, density=True)\n",
    "\n",
    "x = np.arange(nmin, nmax, 0.01/std) \n",
    "y = np.exp(-(x-ave)**2/(2*std**2))/np.sqrt(2*np.pi*std**2) # calculate the theoretical distribution\n",
    "plt.plot(x, y, color=\"b\")\n",
    "plt.xlabel(r\"$n$\", fontsize=16)\n",
    "plt.ylabel(r\"$P(n)$\", fontsize=16)\n",
    "plt.legend([r\"Gauss\", r\"histgram\"], fontsize=16)\n",
    "plt.show()"
   ]
  },
  {
   "cell_type": "markdown",
   "metadata": {
    "slideshow": {
     "slide_type": "skip"
    }
   },
   "source": [
    "<div id=\"extra\" />\n",
    "\n",
    "## Extra\n",
    "\n",
    "- Generate $N=10^5$ random numbers from a gaussian distribution. Calculate the percentage of points that are within one, two, three and four standard deviations from the average. \n",
    "- Imagine you have a distribution for a random variable that has the characteristic shape of a gaussian. Looking at the distribution near the tails, you notice that $0.01$ percent of the points are more than $5\\sigma$ away from the average. Can you say that the distribution is Gaussian?  NO"
   ]
  },
  {
   "cell_type": "code",
   "execution_count": 4,
   "metadata": {},
   "outputs": [
    {
     "data": {
      "image/png": "[encoded data removed]",
      "text/plain": [
       "<Figure size 432x288 with 1 Axes>"
      ]
     },
     "metadata": {},
     "output_type": "display_data"
    },
    {
     "name": "stdout",
     "output_type": "stream",
     "text": [
      "Percentage of points that are within two standard desviations:  0.95442\n"
     ]
    }
   ],
   "source": [
    "ave = 0.0\n",
    "std = 1.0\n",
    "N = 100000\n",
    "np.random.seed(0)\n",
    "X = ave+std*np.random.randn(N)\n",
    "\n",
    "plt.hist(X, bins=25, density=True)\n",
    "x = np.arange(-10, 10, 0.01)\n",
    "y = np.exp(-(x-ave)**2/(2*std**2))/np.sqrt(2*np.pi*std**2)\n",
    "\n",
    "plt.xlim(-10, 10)\n",
    "plt.plot(x, y, color=\"b\")\n",
    "plt.xlabel(r\"$x$\", fontsize=16)\n",
    "plt.ylabel(r\"$P(x)$\",fontsize=16)\n",
    "plt.legend([r\"Gaussian\", r\"histgram\"], fontsize=16)\n",
    "plt.show()\n",
    "\n",
    "# Percentage of points that are within two standard desviations\n",
    "k = 0\n",
    "for i in range(0, len(X)):\n",
    "    if abs(X[i]) < 2*std:\n",
    "        k += 1\n",
    "\n",
    "print(\"Percentage of points that are within two standard desviations: \", k/N)"
   ]
  }
 ],
 "metadata": {
  "anaconda-cloud": {},
  "celltoolbar": "Raw Cell Format",
  "kernelspec": {
   "display_name": "Python 3",
   "language": "python",
   "name": "python3"
  },
  "language_info": {
   "codemirror_mode": {
    "name": "ipython",
    "version": 3
   },
   "file_extension": ".py",
   "mimetype": "text/x-python",
   "name": "python",
   "nbconvert_exporter": "python",
   "pygments_lexer": "ipython3",
   "version": "3.8.6"
  }
 },
 "nbformat": 4,
 "nbformat_minor": 1
}
