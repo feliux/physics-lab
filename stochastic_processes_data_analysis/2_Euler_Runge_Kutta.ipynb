{
 "cells": [
  {
   "cell_type": "markdown",
   "metadata": {
    "slideshow": {
     "slide_type": "slide"
    }
   },
   "source": [
    "# The Euler method for numerical integration\n",
    "\n",
    "- [Introduction](#intro)\n",
    "- [Ordinary differential equations (ODE)](#ode)\n",
    "    - [1st order ODE](#1ode)\n",
    "    - [Numerical calculation](#calculation)\n",
    "- [A very simple problem](#problem)\n",
    "    - [Euler Method](#euler)\n",
    "    - [Leap-frog method](#leapfrog)\n",
    "    - [Runge-Kutta 2nd order](#runge2)\n",
    "    - [Runge-Kutta 4th order](#runge4)\n",
    "- [Extra](#extra)"
   ]
  },
  {
   "cell_type": "markdown",
   "metadata": {},
   "source": [
    "<div id=\"intro\" />\n",
    "\n",
    "## Introduction\n",
    "\n",
    "The Euler method for numerical integration is the most basic explicit method for numerically solving ordinary differential equations. Although many other methods with higher accuracy have been proposed, the simplicity of the Euler method makes it ideal when studying the subject for the first time. We will use it to simulate the motions of Brownian particles."
   ]
  },
  {
   "cell_type": "markdown",
   "metadata": {
    "slideshow": {
     "slide_type": "slide"
    }
   },
   "source": [
    "<div id=\"ode\" />\n",
    "\n",
    "##  Ordinary differential equations (ODE)"
   ]
  },
  {
   "cell_type": "markdown",
   "metadata": {},
   "source": [
    "<div id=\"1ode\" />\n",
    "\n",
    "### 1st order ODE\n",
    "\n",
    "Consider the following 1st order differential equation.\n",
    "\n",
    "$$\n",
    "\\frac{dy(t)}{dt}=f(y(t),t) \\tag{A1}\n",
    "$$\n",
    "\n",
    "Assume that the initial conditions are $y=y_0$ at time $t=t_0$. We need to determine $y(t)$, for any $t \\ge t_0$.\n",
    "\n",
    "#### Formal solution\n",
    "\n",
    "Integrate Eq.(A1) over time, from $0\\rightarrow t$, to obtain the formal solution for $y(t)$\n",
    "\n",
    "$$\n",
    "y(t)=y_0+\\int_{{{t}_{0}}}^{t}{}\\,d{t}'f(y({t}'),{t}') \\tag{A2}\n",
    "$$\n",
    "\n",
    "Let us consider an ordinary differential equation, shown here in Eq.(A1). We want to know the temporal values of $y$ for any time $t$, under the initial condition $y=y_0$ at $t=t_0$. \n",
    "\n",
    "First, let us write down the formal solutions of the differential equation by integrating Eq.(A1) in time, from $t_0$ to $t$. Eq. (A2) gives the exact value of $y$ at any given time $t$, starting from the initial condition of $y_0$ at $t=0$. However, an analytical evaluation of the time integrals is only possible for very limited cases. In most situations, we must solve these differential equations numerically. The Euler method is the simplest method for performing this numerical integration."
   ]
  },
  {
   "cell_type": "markdown",
   "metadata": {
    "slideshow": {
     "slide_type": "slide"
    }
   },
   "source": [
    "<div id=\"calculation\" />\n",
    "\n",
    "### Numerical calculation"
   ]
  },
  {
   "cell_type": "markdown",
   "metadata": {},
   "source": [
    "#### Discretization\n",
    "\n",
    "Divide the total time span $t_0\\rightarrow t$ into $N$ equally spaced segments, each describing a time increment $\\Delta t$.\n",
    "\n",
    "![](images/discretize.png) \n",
    "$$\n",
    "t_i\\equiv t_0+i\\Delta t,\\ \\ \\ \\ \n",
    "y_i\\equiv y(t_i),\\ \\ \\ \\ \n",
    "f_i\\equiv f(t_i,y(t_i))\\tag{A3}\n",
    "$$\n",
    "\n",
    "To solve differential equations numerically using computers, we must first discretize the time axis. We divide the total time span, from $t_0$ to $t$, into $N$ equally spaced segments, each describing a short time increment $\\Delta t$, and define the following discrete variables."
   ]
  },
  {
   "cell_type": "markdown",
   "metadata": {
    "slideshow": {
     "slide_type": "slide"
    }
   },
   "source": [
    "#### Advancing the solution forward a small step $\\Delta t$\n",
    "\n",
    "Integrate Eq.(A1) over a small time interval, from $t_i \\rightarrow t_{i+1}(=t_i+\\Delta t)$,\n",
    "\n",
    "$$\n",
    "y_{i+1} \n",
    "=y_i+\\int_{{{t}_{i}}}^{t_{i+1}}{}\\,d{t}'\\,f(y({t}'),{t}') \\hspace{50mm}\\tag{A3}\n",
    "$$\n",
    "$$\n",
    "= y_i+\\int_{0}^{\\Delta t}\\,d{\\tau}\\,f(y({t_i+\\tau}),t_i+\\tau)\\ \\ \\ \\ \\ \\ \\ \\ (\\tau\\equiv t'-t_i)\\tag{A4}\n",
    "$$\n",
    "$$\n",
    "= y_i+\\int_{0}^{\\Delta t}\\,d{\\tau}\\,\\left[f_i+\\mathcal{O}(\\tau)+\\mathcal{O}(\\tau^2)+\\cdots)\\right]\\hspace{14mm}\\tag{A5}\n",
    "$$\n",
    "$$\n",
    "= y_i+\\left[\\tau\\, f_i+\\mathcal{O}(\\tau^2)+\\mathcal{O}(\\tau^3)+\\cdots)\\right]_{0}^{\\Delta t} \\hspace{23mm}\\tag{A6}\n",
    "$$\n",
    "\n",
    "$$\n",
    "= y_i+\\Delta t \\,f_i+\\mathcal{O}(\\Delta t^2)+\\mathcal{O}(\\Delta t^3)+\\cdots \\hspace{23mm}\\tag{A7}\n",
    "$$\n",
    "\n",
    "Now consider how to perform the integration over a small time increment $\\Delta t$,  from $t_i$ to $t_{i+1}$. Using the Taylor expansion, we expand the integrand around $t_i$, in increasing powers of $\\tau$, where $\\tau = t^\\prime - t_i$. For simplicity, we only explicitly write the zero-th order term, proportional to $f_i$. The integrals can be performed analytically, with each term one order in $\\Delta t$ higher than the previous one."
   ]
  },
  {
   "cell_type": "markdown",
   "metadata": {},
   "source": [
    "<div id=\"problem\" />\n",
    "\n",
    "## A very simple problem\n",
    "\n",
    "Numerically solve the following differential equation and determine $y(t)$ for $0\\le t\\le 10$ with the initial condition $y=1$ at $t=0$. Then compare it with the analytical solution $y=\\exp(-t)$.\n",
    "\n",
    "$$\n",
    "\\frac{dy(t)}{dt}=-y(t) \\tag{A22}\n",
    "$$\n",
    "\n",
    "Let us consider a very simple problem here and try to apply the Euler method to numerically solve it. We want to numerically solve the following differential equation and determine $y(t)$ for $0\\le t\\le 10$, with initial condition $y=1$ at $t=0$. Then we compare it with the analytical solution $y=\\exp(-t)$."
   ]
  },
  {
   "cell_type": "code",
   "execution_count": 1,
   "metadata": {},
   "outputs": [],
   "source": [
    "import numpy as np\n",
    "import matplotlib.pyplot as plt\n",
    "plt.style.use(\"ggplot\")"
   ]
  },
  {
   "cell_type": "markdown",
   "metadata": {
    "slideshow": {
     "slide_type": "slide"
    }
   },
   "source": [
    "<div id=\"euler\" />\n",
    "\n",
    "### Euler method\n",
    "\n",
    "- Difference equation $\\rightarrow$ 1st order in $\\Delta t$\n",
    "\n",
    "\n",
    "$$\n",
    "y_{i+1} = y_i+\\Delta t \\,f_i \\tag{A8}\n",
    "$$\n",
    "\n",
    "- Simulation procedure $\\rightarrow$ Explicit method\n",
    "\n",
    "$$\n",
    "y_0, f_0 \\xrightarrow[\\Delta t]{\\rm Eq.(A8)}\n",
    "y_1, f_1 \\xrightarrow[\\Delta t]{\\rm Eq.(A8)}\n",
    "\\cdots\n",
    "y_i, f_i \n",
    "\\cdots\n",
    "\\xrightarrow[\\Delta t]{\\rm Eq.(A8)}\\tag{A9}\n",
    "y_N, f_N \n",
    "$$\n",
    "\n",
    "- Forward difference approximation (1st order)\n",
    "\n",
    "$$\n",
    "\\left.\\frac{dy(t)}{dt}\\right|_{t=t_i}\\simeq\\frac{y_{i+1}-y_i}{\\Delta t}\\tag{A10}\n",
    "$$\n",
    "\n",
    "In the limit when the time increment $\\Delta t\\rightarrow 0$, we can neglect all terms in Eq.(A7) of second order or higher. This first order approximation is known as the Euler method, shown here as Eq.(A8). By repeatedly applying Eq.(A8) $N$ times, we can obtain an approximation of $y$ at a given time $t=N \\Delta t$. This process is schematically shown in Eq.(A9).\n",
    "\n",
    "The Euler method is a first-order method, which means that the local error (the error per step) is proportional to the square of the step size, and the global error (the error at a given time $t$) is proportional to the step size. Although simple and not very accurate itself, the Euler method serves as the basis to construct more accurate methods. \n",
    "\n",
    "From Eqs.(A1) and (A8), it is straightforward to solve for $f$, and to recognize that the Euler method is a forward difference approximation to the derivative of $y$, as defined in Eq. (A10)."
   ]
  },
  {
   "cell_type": "code",
   "execution_count": 2,
   "metadata": {
    "slideshow": {
     "slide_type": "slide"
    }
   },
   "outputs": [
    {
     "data": {
      "image/png": "[encoded data removed]",
      "text/plain": [
       "<Figure size 432x288 with 1 Axes>"
      ]
     },
     "metadata": {},
     "output_type": "display_data"
    }
   ],
   "source": [
    "# Euler method\n",
    "dt, tmin, tmax = 0.1, 0.0, 10.0 # set \\Delta t,t0,tmax\n",
    "step = int((tmax-tmin)/dt)\n",
    "# create array t from tmin to tmax with equal interval dt \n",
    "t  = np.linspace(tmin, tmax, step)\n",
    "y  = np.zeros(step) # initialize array y as all 0\n",
    "ya = np.exp(-t) # analytical solution y = exp(-t)\n",
    "plt.plot(t, ya, label=\"Exact\", lw=5)\n",
    "\n",
    "y[0] = 1.0 # initial condition\n",
    "for i in range(step-1):\n",
    "    y[i+1] = y[i] - dt*y[i] # Euler method Eq.(A8)\n",
    "    \n",
    "plt.plot(t, y, ls=\"--\", lw=3, label=\"Numerical\") # plot y vs t (numerical)\n",
    "plt.plot(t, y/ya, lw=3, label=\"Ratio\") # plot y/ya vs. t\n",
    "plt.legend()\n",
    "plt.show()"
   ]
  },
  {
   "cell_type": "markdown",
   "metadata": {
    "slideshow": {
     "slide_type": "slide"
    }
   },
   "source": [
    "<div id=\"leapfrog\" />\n",
    "\n",
    "### Leap-frog method\n",
    "\n",
    "- Central difference approximation\n",
    "\n",
    "$$\n",
    "\\left.\\frac{dy(t)}{dt}\\right|_{t=t_i}\\simeq\\frac{y_{i+1}-y_{i-1}}{2\\Delta t}\\tag{A11}\n",
    "$$\n",
    "\n",
    "- Difference equation, Substitute Eq.(A11) in Eq.(A1)\n",
    "\n",
    "$$\n",
    "y_{i+1} = y_{i-1}+2\\Delta t \\,f_i \\tag{A12}\n",
    "$$\n",
    "\n",
    "- Simulation procedure $\\rightarrow$ Explicit method\n",
    "\n",
    "$$\n",
    "y_{-1}, f_0 \\xrightarrow[\\ \\ \\ 2\\Delta t\\ \\ \\ ]{\\rm Eq.(A11)}\n",
    "y_1, f_2 \\xrightarrow[2\\Delta t]{\\rm Eq.(A11)}\n",
    "\\cdots\n",
    "y_i, f_{i+1} \n",
    "\\cdots\n",
    "\\xrightarrow[2\\Delta t]{\\rm Eq.(A11)}\n",
    "y_N  \\tag{A13}\n",
    "$$\n",
    "\n",
    "$$\n",
    "y_{0}, f_1 \\xrightarrow[2\\Delta t]{\\rm Eq.(A11)}\n",
    "y_2, f_3 \\cdots\n",
    "\\xrightarrow[2\\Delta t]{\\rm Eq.(A11)}\n",
    "y_{N-1}, f_{N} \\tag{A14}\n",
    "$$\n",
    "\n",
    "Instead of using the forward difference approximation of the Euler method, we can use a centered difference, to design a higher-order (more accurate) integration method.\n",
    "\n",
    "The central difference approximation given by Eq. (11) estimates the derivative of $y$ at step $i$, in terms of the $y$ values at steps $i-1$ and $i+1$. Substituting Eq.(A11) into Eq.(A1), we obtain the difference equation referred to as the Leapfrog method, shown in Eq. (12).\n",
    "\n",
    "This integration scheme gives a method that is accurate to second order in $\\Delta t$ (this means the error is $\\mathcal{O}(\\Delta t^3)$). The simulation procedure corresponding to the Leapfrog method is schematically represented in Eqs. (A13) and (A14).\n",
    "\n",
    "In contrast to the Euler method, the difference equation for the Leapfrog method (Eq. (A12)) involves values of $y$ and $f$ at distinct times. In this case $i$ and $i-1$, respectively. "
   ]
  },
  {
   "cell_type": "markdown",
   "metadata": {
    "slideshow": {
     "slide_type": "slide"
    }
   },
   "source": [
    "<div id=\"runge2\" />\n",
    "\n",
    "### Runge-Kutta 2nd order\n",
    "\n",
    "- Difference equation\n",
    "\n",
    "$$\n",
    "y\\,'_{i+\\frac{1}{2}} = y_i+\\frac{1}{2}\\Delta t \\,f_i  \\hspace{50mm}{\\rm (Euler)} \\tag{A15}\n",
    "$$\n",
    "\n",
    "$$\n",
    "y_{i+1} = y_i+\\Delta t \\,f(t_{i+\\frac{1}{2}},y\\,'_{i+\\frac{1}{2}})\n",
    " = y_i+\\Delta t \\,f\\,'_{i+\\frac{1}{2}} \\hspace{15mm}{\\rm (Leapfrog)}\\tag{A16}\n",
    "$$\n",
    "\n",
    "- Simulation procedure $\\rightarrow$ Explicit method\n",
    "\n",
    "$$\n",
    "y_{0}, f_{0} \\xrightarrow[\\ \\ \\ \\frac{1}{2}\\Delta t\\ \\ \\ ]{\\rm Eq.(A15)}\n",
    "y\\,'_{\\frac{1}{2}}, f\\,'_{\\frac{1}{2}}\n",
    "\\hspace{15mm}\n",
    "y_i, f_{i} \n",
    "\\xrightarrow[\\frac{1}{2}\\Delta t]{\\rm Eq.(A15)}\n",
    "y\\,'_{i+\\frac{1}{2}}, f\\,'_{i+\\frac{1}{2}} \n",
    "\\hspace{60mm} \n",
    "$$\n",
    "$$\n",
    "y_{1}, f_{1} \\xrightarrow[\\ \\ \\ \\frac{1}{2}\\Delta t\\ \\ \\ ]{\\rm Eq.(A15)}\n",
    "y\\,'_{1+\\frac{1}{2}}, f\\,'_{1+\\frac{1}{2}} \n",
    "\\hspace{8mm} \\cdots\n",
    "\\xrightarrow[\\frac{1}{2}\\Delta t]{\\rm Eq.(A15)}\n",
    "y\\,'_{N-\\frac{1}{2}}, f\\,'_{N-\\frac{1}{2}} \\hspace{20mm}\\ \n",
    "$$\n",
    "\n",
    "$$\n",
    "y_{0}, f\\,'_{\\frac{1}{2}} \\xrightarrow[\\ \\ \\ \\Delta t\\ \\ \\ ]{\\rm Eq.(A16)}\n",
    "y_1, f\\,'_{1+\\frac{1}{2}} \\xrightarrow[\\Delta t]{\\rm Eq.(A16)}\n",
    "\\cdots\n",
    "y_i, f\\,'_{i+\\frac{1}{2}} \n",
    "\\cdots\n",
    "\\xrightarrow[\\Delta t]{\\rm Eq.(A16)}\n",
    "y_N  \\tag{A17}\n",
    "$$\n",
    "\n",
    "Here we have written down the difference equations for a 2nd order Runge-Kutta method. The first Eq.(A15) represents an intermediate operation, to estimate $y_{i+\\frac{1}{2}}$ and $f_{i+\\frac{1}{2}}$ at the midpoint, using the Euler method. The second equation represents the main operation, where $y_{i+1}$ is calculated using a Leapfrog like method, with $f$ evaluated at the midpoint. This particular method is second order in $\\Delta t$, like the Leapfrog method, but higher order Runge-Kutte methods can be easily derived."
   ]
  },
  {
   "cell_type": "code",
   "execution_count": 3,
   "metadata": {},
   "outputs": [
    {
     "data": {
      "image/png": "[encoded data removed]",
      "text/plain": [
       "<Figure size 432x288 with 1 Axes>"
      ]
     },
     "metadata": {},
     "output_type": "display_data"
    }
   ],
   "source": [
    "# Runge-Kutta 2nd\n",
    "dt, tmin, tmax = 0.1, 0.0, 10.0 # set \\Delta t, t0, tmax\n",
    "step = int((tmax-tmin)/dt)\n",
    "# create array t from tmin to tmax with equal interval dt \n",
    "t = np.linspace(tmin, tmax, step)\n",
    "y = np.zeros(step)\n",
    "y1 = np.zeros(step)\n",
    "ya = np.exp(-t)\n",
    "plt.plot(t, ya, lw=5, label=\"Exact\")\n",
    "y[0] = 1.0\n",
    "\n",
    "for i in range(step-1):\n",
    "    y1[i] = y[i] - 0.5*dt*y[i] # Runge-Kutta Eq.(A15)\n",
    "    y[i+1] = y[i] - dt*y1[i] # Runge-Kutta Eq.(A16)\n",
    "    \n",
    "plt.plot(t, y, lw=3, ls=\"--\", label=\"Numerical\")\n",
    "plt.plot(t, y/ya, lw=3, label=\"Ratio\")\n",
    "plt.legend()\n",
    "plt.show()"
   ]
  },
  {
   "cell_type": "markdown",
   "metadata": {
    "slideshow": {
     "slide_type": "slide"
    }
   },
   "source": [
    "<div id=\"runge4\" />\n",
    "\n",
    "### Runge-Kutta 4th order\n",
    "\n",
    "- Difference equation\n",
    "\n",
    "$$\n",
    "y\\,'_{i+\\frac{1}{2}}=y_i+\\frac{\\Delta t}{2}f_i,\\hspace{20mm}\n",
    "f\\,'_{i+\\frac{1}{2}}= f(y\\,'_{i+\\frac{1}{2}},t_{i+\\frac{1}{2}}) \\tag{A18}\n",
    "$$\n",
    "\n",
    "$$\n",
    "y\\,''_{i+\\frac{1}{2}}=y_i+\\frac{\\Delta t}{2}f\\,'_i,\\hspace{20mm}\n",
    "f\\,''_{i+\\frac{1}{2}}= f(y\\,''_{i+\\frac{1}{2}},t_{i+\\frac{1}{2}}) \\tag{A19}\n",
    "$$\n",
    "\n",
    "$$\n",
    "y\\,'''_{i+1}=y_i+{\\Delta t}f\\,''_{i+\\frac{1}{2}},\\hspace{20mm}\n",
    "f\\,'''_{i+1} = f(y\\,'''_{i+1},t_{i+1}) \\tag{A20}\n",
    "$$\n",
    "\n",
    "$$\n",
    "y_{i+1} = y_i+\\frac{1}{6}\\Delta t \\left[\n",
    "f_i+2f\\,'_{i+\\frac{1}{2}}+2f\\,''_{i+\\frac{1}{2}}+f\\,'''_{n+1}\n",
    "\\right]\\tag{A21}\n",
    "$$\n",
    "\n",
    "In fact, the most popular Runge-Kutta method is the 4th order method we present now. The appropriate difference equations for this scheme are given in Eqs. (A18)-(A21).\n",
    "\n",
    "The first three Eqs.(A18)-(A20) represent intermediate operations to estimate tentative values for $y$ and $f$ using the Euler method. The 4th equation is the main operation, where $y_{i+1}$ is calculated using the intermediate values of $f$ obtained previously. This method is fourth order in $\\Delta t$, which means that the error is $\\mathcal{O}(\\Delta t^5)$."
   ]
  },
  {
   "cell_type": "code",
   "execution_count": 4,
   "metadata": {},
   "outputs": [
    {
     "data": {
      "image/png": "[encoded data removed]",
      "text/plain": [
       "<Figure size 432x288 with 1 Axes>"
      ]
     },
     "metadata": {},
     "output_type": "display_data"
    }
   ],
   "source": [
    "# Runge-Kutta 4th\n",
    "dt,tmin,tmax =0.1,0.0,10.0\n",
    "step = int((tmax-tmin)/dt)\n",
    "# create array t from tmin to tmax with equal interval dt\n",
    "t = np.linspace(tmin,tmax,step)\n",
    "y = np.zeros(step)\n",
    "y1 = np.zeros(step)\n",
    "y2 = np.zeros(step)\n",
    "y3 = np.zeros(step)\n",
    "ya = np.exp(-t)\n",
    "\n",
    "plt.plot(t, ya, lw=5, label=\"Exact\")\n",
    "y[0] = 1.0 # initial condition\n",
    "\n",
    "for i in range(step-1):\n",
    "    y1[i] = y[i] - 0.5*dt*y[i] # Runge-Kutta Eq.(A18)\n",
    "    y2[i] = y[i] - 0.5*dt*y1[i] # Runge-Kutta Eq.(A19)\n",
    "    y3[i] = y[i] - dt*y2[i] # Runge-Kutta Eq.(A20)\n",
    "    # Runge-Kutta Eq.(A21)\n",
    "    y[i+1] = y[i] - dt*(y[i] + 2.0*y1[i] + 2.0*y2[i] + y3[i])/6.0\n",
    "    \n",
    "plt.plot(t, y, lw=3, ls=\"--\", label=\"Numerical\")\n",
    "plt.plot(t, y/ya, lw=3, label=\"Ratio\")\n",
    "plt.legend()\n",
    "plt.show()"
   ]
  },
  {
   "cell_type": "markdown",
   "metadata": {
    "slideshow": {
     "slide_type": "skip"
    }
   },
   "source": [
    "<div id=\"extra\" />\n",
    "\n",
    "## Extra\n",
    "\n",
    "1. Compare the Euler method with the Taylor expansion\n",
    "\n",
    "$$\n",
    "y_{i+1}=y_i+\\Delta t \\frac{dy}{dt}+\\frac{\\Delta t^2}{2} \\frac{d^2y}{dt^2}+\\frac{\\Delta t^3}{3} \\frac{d^3y}{dt^3}+\\cdots\n",
    "$$\n",
    "\n",
    "to find the order of the method in terms of $\\Delta t$.\n",
    "\n",
    "2. Compare the Leapfrog method with the Taylor expansion to find the order of the method in terms of $\\Delta t$.\n",
    "1. Use the code example for the Euler method and examine the amplitude of the numerical errors (i.e. deviations of y/ya from 1), by changing the time increment to dt=0.01, 0.05, 0.1, 0,5, and 0.9.\n",
    "1. Perform the same error analysis for the Runge-Kutta (2nd order) method by modifing the code example for the Euler method.\n",
    "1. Perform the same error analysis for the Runge-Kutta (4th order) method.\n",
    "\n",
    "\n",
    "1. Euler method:\n",
    "\n",
    "$$\n",
    "y_{i+1}=y_i+\\Delta t f_i=y_i+\\Delta t \\left.\\frac{dy}{dt}\\right|_{i}\\tag{AH1}\n",
    "$$\n",
    "\n",
    "Taylor expansion ($+\\Delta t$):\n",
    "\n",
    "$$\n",
    "y_{i+1}=y_i+\\Delta t \\left.\\frac{dy}{dt}\\right|_{i}+\\frac{\\Delta t^2}{2} \\left.\\frac{d^2y}{dt^2}\\right|_{i}+\\left.\\frac{\\Delta t^3}{3} \\frac{d^3y}{dt^3}\\right|_{i}+\\cdots\n",
    "\\tag{AH2}\n",
    "$$\n",
    "$\\rightarrow$ 1st order\n",
    "\n",
    "\n",
    "\n",
    "2. Leapfrog method:\n",
    "\n",
    "$$\n",
    "y_{i+1}=y_{i-1}+2\\Delta t f_i=y_i+2\\Delta t \\left.\\frac{dy}{dt}\\right|_{i}\\tag{AH3}\n",
    "$$\n",
    "\n",
    "Taylor expansion ($-\\Delta t$):\n",
    "\n",
    "$$\n",
    "y_{i-1}=y_i-\\Delta t \\left.\\frac{dy}{dt}\\right|_{i}+\\frac{\\Delta t^2}{2} \\left.\\frac{d^2y}{dt^2}\\right|_{i}-\\left.\\frac{\\Delta t^3}{3} \\frac{d^3y}{dt^3}\\right|_{i}+\\cdots\\tag{AH4}\n",
    "$$\n",
    "Eq.(AH2)-Eq.(AH4) gives\n",
    "$$\n",
    "y_{i+1}=y_{i-1}+2\\Delta t \\left.\\frac{dy}{dt}\\right|_{i}\n",
    "- 0 \n",
    "+\\left.\\frac{2\\Delta t^3}{3} \\frac{d^3y}{dt^3}\\right|_{i}+\\cdots\\tag{AH5}\n",
    "$$\n",
    "$\\rightarrow$ 2nd order"
   ]
  }
 ],
 "metadata": {
  "anaconda-cloud": {},
  "celltoolbar": "Raw Cell Format",
  "kernelspec": {
   "display_name": "Python 3",
   "language": "python",
   "name": "python3"
  },
  "language_info": {
   "codemirror_mode": {
    "name": "ipython",
    "version": 3
   },
   "file_extension": ".py",
   "mimetype": "text/x-python",
   "name": "python",
   "nbconvert_exporter": "python",
   "pygments_lexer": "ipython3",
   "version": "3.8.6"
  }
 },
 "nbformat": 4,
 "nbformat_minor": 1
}
