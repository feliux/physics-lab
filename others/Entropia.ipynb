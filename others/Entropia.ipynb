{
 "cells": [
  {
   "cell_type": "code",
   "execution_count": null,
   "metadata": {},
   "outputs": [],
   "source": [
    "import math\n",
    "\n",
    "def entropia(lista):\n",
    "    #\n",
    "    # Shannon Entropy\n",
    "    #\n",
    "    # lista == string\n",
    "    # No ignore string empty space\n",
    "    #\n",
    "    # lista == list -> as vector \n",
    "    # Each component represent the value of the current position \n",
    "    #\n",
    "    # Ej:\n",
    "    # entropia('hi') == entropia('h i') print False\n",
    "    # entropia([1,1,1,1,1,1,1,1,0,0,0,0,0,0,0,0]) == entropia([0,0,0,0,0,0,0,0,1,1,1,1,1,1,1,1]) print True\n",
    "    # entropia('m') == entropia([1]) == 0\n",
    "    # entropia('') == 0\n",
    "    # entropia([0,0,0]) == 0\n",
    "    # entropia('m ') == entropia([1,1]) print True with value 1 \n",
    "    # entropia(' m ') == entropia([2,1,0]) print True with value 0.918\n",
    "    # entropia([1,1,1,1]) == 2\n",
    "    # entropia([3,0,0]) == 0\n",
    "    # \n",
    "    # Calculator -> https://es.planetcalc.com/2476/\n",
    "    \n",
    "    \n",
    "    l = []\n",
    "    p = []\n",
    "    \n",
    "    if type(lista)==type('str'):\n",
    "        N = len(lista)\n",
    "        lista = lista.lower()\n",
    "        [(l.append(i), p.append(lista.count(i))) for i in lista if i not in l]\n",
    "        probs = (freq/N for freq in p) # Not necessary if freq>0 cause always be\n",
    "        \n",
    "        # Return a dictionary with keys=characters and values=count\n",
    "        #d = dict(zip(l,p))\n",
    "        \n",
    "    elif type(lista)==type([1, 1]):\n",
    "        N = sum(lista)\n",
    "        probs = (freq/N for freq in lista if freq > 0)\n",
    "        \n",
    "    return -sum(x * math.log(x, 2) for x in probs)"
   ]
  }
 ],
 "metadata": {
  "kernelspec": {
   "display_name": "Python 3 (ipykernel)",
   "language": "python",
   "name": "python3"
  },
  "language_info": {
   "codemirror_mode": {
    "name": "ipython",
    "version": 3
   },
   "file_extension": ".py",
   "mimetype": "text/x-python",
   "name": "python",
   "nbconvert_exporter": "python",
   "pygments_lexer": "ipython3",
   "version": "3.9.6"
  }
 },
 "nbformat": 4,
 "nbformat_minor": 2
}
