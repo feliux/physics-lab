{
 "cells": [
  {
   "cell_type": "markdown",
   "id": "89c4aa6f",
   "metadata": {},
   "source": [
    "# Medida de la tensión superficial. Método de Du Nouy"
   ]
  },
  {
   "cell_type": "code",
   "execution_count": 1,
   "id": "8077533e",
   "metadata": {},
   "outputs": [],
   "source": [
    "import numpy as np\n",
    "import pandas as pd\n",
    "import matplotlib.pyplot as plt\n",
    "import statsmodels.api as sm\n",
    "import seaborn as sns\n",
    "\n",
    "from tabulate import tabulate\n",
    "from sklearn.metrics import mean_squared_error\n",
    "\n",
    "%matplotlib inline\n",
    "sns.set_theme(style=\"darkgrid\")\n",
    "\n",
    "# Data\n",
    "DATA_PATH = \"data/\"\n",
    "\n",
    "# Figures\n",
    "FIGURES_PATH = \"figures/\""
   ]
  },
  {
   "cell_type": "code",
   "execution_count": 2,
   "id": "7f7ed906",
   "metadata": {},
   "outputs": [
    {
     "name": "stdout",
     "output_type": "stream",
     "text": [
      "   temperatura (º) |   fuerza (mN) |   T (K) |   F (N) |   tension (N/m) |   errorTension (N/m) |   tension V2/3 |   errorTension V2/3\n",
      "-------------------+---------------+---------+---------+-----------------+----------------------+----------------+---------------------\n",
      "                79 |           5.4 |     352 |  0.0054 |       0.0440737 |          0.000816179 |    3.02711e-05 |         5.60575e-07\n",
      "                71 |           5.6 |     344 |  0.0056 |       0.045706  |          0.000816179 |    3.13922e-05 |         5.60575e-07\n",
      "                66 |           6   |     339 |  0.006  |       0.0489708 |          0.000816179 |    3.36345e-05 |         5.60575e-07\n",
      "                61 |           6.2 |     334 |  0.0062 |       0.0506031 |          0.000816179 |    3.47557e-05 |         5.60575e-07\n",
      "                55 |           6.4 |     328 |  0.0064 |       0.0522355 |          0.000816179 |    3.58768e-05 |         5.60575e-07\n",
      "                49 |           6.9 |     322 |  0.0069 |       0.0563164 |          0.000816179 |    3.86797e-05 |         5.60575e-07\n",
      "                43 |           7.1 |     316 |  0.0071 |       0.0579487 |          0.000816179 |    3.98008e-05 |         5.60575e-07\n",
      "                36 |           6.9 |     309 |  0.0069 |       0.0563164 |          0.000816179 |    3.86797e-05 |         5.60575e-07\n",
      "                30 |           7.2 |     303 |  0.0072 |       0.0587649 |          0.000816179 |    4.03614e-05 |         5.60575e-07\n",
      "                26 |           8.2 |     299 |  0.0082 |       0.0669267 |          0.000816179 |    4.59672e-05 |         5.60575e-07\n",
      "                24 |           8.2 |     297 |  0.0082 |       0.0669267 |          0.000816179 |    4.59672e-05 |         5.60575e-07\n",
      "                22 |           8.5 |     295 |  0.0085 |       0.0693752 |          0.000816179 |    4.76489e-05 |         5.60575e-07\n",
      " \n",
      "                            OLS Regression Results                            \n",
      "==============================================================================\n",
      "Dep. Variable:           tension V2/3   R-squared:                       0.927\n",
      "Model:                            OLS   Adj. R-squared:                  0.919\n",
      "Method:                 Least Squares   F-statistic:                     126.4\n",
      "Date:                Sat, 28 Aug 2021   Prob (F-statistic):           5.38e-07\n",
      "Time:                        18:28:44   Log-Likelihood:                 143.98\n",
      "No. Observations:                  12   AIC:                            -284.0\n",
      "Df Residuals:                      10   BIC:                            -283.0\n",
      "Df Model:                           1                                         \n",
      "Covariance Type:            nonrobust                                         \n",
      "==============================================================================\n",
      "                 coef    std err          t      P>|t|      [0.025      0.975]\n",
      "------------------------------------------------------------------------------\n",
      "const          0.0001   8.02e-06     16.033      0.000       0.000       0.000\n",
      "T (K)      -2.815e-07    2.5e-08    -11.243      0.000   -3.37e-07   -2.26e-07\n",
      "==============================================================================\n",
      "Omnibus:                        3.633   Durbin-Watson:                   1.320\n",
      "Prob(Omnibus):                  0.163   Jarque-Bera (JB):                1.831\n",
      "Skew:                          -0.957   Prob(JB):                        0.400\n",
      "Kurtosis:                       3.026   Cond. No.                     5.46e+03\n",
      "==============================================================================\n",
      "\n",
      "Notes:\n",
      "[1] Standard Errors assume that the covariance matrix of the errors is correctly specified.\n",
      "[2] The condition number is large, 5.46e+03. This might indicate that there are\n",
      "strong multicollinearity or other numerical problems.\n",
      " \n"
     ]
    },
    {
     "name": "stderr",
     "output_type": "stream",
     "text": [
      "/opt/conda/lib/python3.9/site-packages/statsmodels/tsa/tsatools.py:142: FutureWarning: In a future version of pandas all arguments of concat except for the argument 'objs' will be keyword-only\n",
      "  x = pd.concat(x[::order], 1)\n",
      "/opt/conda/lib/python3.9/site-packages/scipy/stats/stats.py:1541: UserWarning: kurtosistest only valid for n>=20 ... continuing anyway, n=12\n",
      "  warnings.warn(\"kurtosistest only valid for n>=20 ... continuing \"\n"
     ]
    },
    {
     "data": {
      "image/png": "[encoded data removed]",
      "text/plain": [
       "<Figure size 432x288 with 1 Axes>"
      ]
     },
     "metadata": {},
     "output_type": "display_data"
    }
   ],
   "source": [
    "# Datos\n",
    "T = 22 # ºC\n",
    "p = 717 # mmHg\n",
    "diametro = 19.5 / 1000 # m\n",
    "radio = diametro / 2 # m\n",
    "V_molar = 1.8 * 10**(-5) # m^3/mol\n",
    "\n",
    "# Errores\n",
    "errorT = 1 # ºC\n",
    "errorF = 0.1 / 1000 # N\n",
    "\n",
    "df = pd.read_csv(DATA_PATH + \"datos_T22_P717.csv\")\n",
    "df[\"T (K)\"] = df[\"temperatura (º)\"] + 273\n",
    "df[\"F (N)\"] = df[\"fuerza (mN)\"] / 1000\n",
    "\n",
    "df[\"tension (N/m)\"] = df[\"F (N)\"] / (4 * np.pi * radio)\n",
    "df[\"errorTension (N/m)\"] = errorF / (4 * np.pi * radio)\n",
    "\n",
    "df[\"tension V2/3\"] = df[\"tension (N/m)\"] * (V_molar**(2/3))\n",
    "df[\"errorTension V2/3\"] = df[\"errorTension (N/m)\"] * (V_molar**(2/3))\n",
    "\n",
    "print(tabulate(\n",
    "    df, \n",
    "    headers=\"keys\", \n",
    "    tablefmt=\"presto\", \n",
    "    showindex=False)\n",
    ")\n",
    "print(\" \")\n",
    "\n",
    "x = df[\"T (K)\"]\n",
    "y = df[\"tension V2/3\"]\n",
    "X = sm.add_constant(x, prepend=True)\n",
    "\n",
    "ols1 = sm.OLS(y, X)\n",
    "ols_result1 = ols1.fit()\n",
    "print(ols_result1.summary())\n",
    "print(\" \")\n",
    "\n",
    "y_pred = ols_result1.predict(X)\n",
    "\n",
    "plt.errorbar(x, y, xerr=errorT, yerr=df[\"errorTension V2/3\"], fmt=\".\", label=\"Datos\")\n",
    "plt.plot(x, y_pred, color=\"red\", label=\"Regresión lineal\")\n",
    "plt.title(r\"$\\sigma V^{2/3}$ vs T\")\n",
    "plt.xlabel(\"T (K)\")\n",
    "plt.ylabel(r\"$\\sigma V^{2/3}$\")\n",
    "plt.figtext(.45, .8, f\"pendiente: (%.1E $\\pm$ %.1E)\" % (ols_result1.params[1], ols_result1.bse[1]))\n",
    "plt.figtext(.56, .7, f\"cte: (%.1E $\\pm$ %.1E)\" % (ols_result1.params[0], ols_result1.bse[0]))\n",
    "plt.figtext(.75, .6, f\"$R^2 \\sim$ %.2f\" % ols_result1.rsquared)\n",
    "plt.grid(True)\n",
    "plt.legend(loc=\"lower left\")\n",
    "plt.savefig(FIGURES_PATH + \"eotvos.png\")\n",
    "plt.show()"
   ]
  },
  {
   "cell_type": "code",
   "execution_count": 3,
   "id": "c36d992a",
   "metadata": {},
   "outputs": [
    {
     "name": "stdout",
     "output_type": "stream",
     "text": [
      "Constante de Eotvos:  -2.815419141186432e-07\n",
      "Constante Tk:  456.8866656245121\n",
      "Error Tk:  12.141381706355435\n"
     ]
    }
   ],
   "source": [
    "m = ols_result1.params[1]\n",
    "b = ols_result1.params[0]\n",
    "\n",
    "Tk = abs( b/m)\n",
    "errorTk = (ols_result1.bse[0] / m) + abs(- b * ols_result1.bse[1] / (m**2))\n",
    "\n",
    "print(\"Constante de Eotvos: \", m)\n",
    "print(\"Constante Tk: \", Tk)\n",
    "print(\"Error Tk: \", errorTk)"
   ]
  }
 ],
 "metadata": {
  "kernelspec": {
   "display_name": "Python 3 (ipykernel)",
   "language": "python",
   "name": "python3"
  },
  "language_info": {
   "codemirror_mode": {
    "name": "ipython",
    "version": 3
   },
   "file_extension": ".py",
   "mimetype": "text/x-python",
   "name": "python",
   "nbconvert_exporter": "python",
   "pygments_lexer": "ipython3",
   "version": "3.9.6"
  }
 },
 "nbformat": 4,
 "nbformat_minor": 5
}
