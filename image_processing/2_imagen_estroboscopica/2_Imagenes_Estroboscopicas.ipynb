{
 "cells": [
  {
   "cell_type": "markdown",
   "id": "73ffe5d1",
   "metadata": {},
   "source": [
    "# Imágenes estroboscópicas\n",
    "\n",
    "Las imágenes estroboscópicas consisten en la adquisición en una única imagen de diferentes instantes de tiempo, ya sea porque una escena de interés se ha iluminado con una secuencia de pulsos breves de luz muy intensa, ya sea porque el obturador de la cámara se ha abierto y cerrado muy rápidamente un cierto número de veces sobre el mismo detector. Esta técnica se emplea desde hace mucho tiempo para adquirir imágenes de procesos que suceden muy rápidamente, más rápidamente de lo que permite captar una cámara de vídeo (o de película).\n",
    "\n",
    "La imagen de este problema es una imagen estroboscópica de un jugador de golf, Bobby Jones (ca. 1940; [fuente](http://www.clubmaker-online.com/)). En ella se puede observar como el golfista acelera angularmente su palo de golf hasta que golpea la bola y, posteriormente, lo decelera.\n",
    "\n",
    "Los objetivos de este problema son:\n",
    "\n",
    "1. Segmentar las múltiples imágenes del mango del palo de golf.\n",
    "    - Sugerencia 1: realice una sustracción de fondo y, después, aplique un detector de bordes laplaciano. \n",
    "    - Sugerencia 2: aplique una diferencia de gaussianas.\n",
    "    - Ssugerencia 3: genere una máscara geométrica que incluya sólo el mango del palo de golf, p.ej. usando dos círculos ponga a valor 0 los píxeles fuera del espacio entre ambos.\n",
    "\n",
    "2. Identificar el mango del palo de golf en la imagen segmentada. Determine (al menos) dos puntos en él y calcule su ángulo de orientación en los sucesivos disparos estroboscópicos.\n",
    "\n",
    "3. Representar la gráfica de ángulo vs. tiempo suponiendo que los disparos estroboscópicos están equiespaciados 0.05 s. Calcule la aceleración angular mediante una fórmula de diferencias centradas."
   ]
  },
  {
   "cell_type": "code",
   "execution_count": null,
   "id": "2120cb38",
   "metadata": {},
   "outputs": [],
   "source": []
  }
 ],
 "metadata": {
  "kernelspec": {
   "display_name": "Python 3 (ipykernel)",
   "language": "python",
   "name": "python3"
  },
  "language_info": {
   "codemirror_mode": {
    "name": "ipython",
    "version": 3
   },
   "file_extension": ".py",
   "mimetype": "text/x-python",
   "name": "python",
   "nbconvert_exporter": "python",
   "pygments_lexer": "ipython3",
   "version": "3.9.6"
  }
 },
 "nbformat": 4,
 "nbformat_minor": 5
}
