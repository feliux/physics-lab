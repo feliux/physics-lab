{
 "cells": [
  {
   "cell_type": "code",
   "execution_count": 1,
   "id": "a94a1770",
   "metadata": {},
   "outputs": [],
   "source": [
    "# VER README\n",
    "# Notebooks con Markdown en celdas de coódigo para renderizar sin celdas ni prompt\n",
    "\n",
    "import numpy as np\n",
    "import pandas as pd\n",
    "import matplotlib.pyplot as plt\n",
    "\n",
    "from tabulate import tabulate\n",
    "from IPython.display import Markdown as md\n",
    "\n",
    "%matplotlib inline\n",
    "\n",
    "# Data\n",
    "DATA_PATH = \"data/\"\n",
    "\n",
    "# Funciones\n",
    "rnd = lambda x: round(x, 2)"
   ]
  },
  {
   "cell_type": "markdown",
   "id": "4b24566b",
   "metadata": {},
   "source": [
    "# Caracterización de un contador Geiger-Muller\n",
    "\n",
    "Se realizan una serie de medidas en el laboratorio con la idea de hacer la caracterización de un contador Geiger-Muller (G-M)."
   ]
  },
  {
   "cell_type": "markdown",
   "id": "e9aac81b",
   "metadata": {},
   "source": [
    "## Curva característica\n",
    "\n",
    "En primer lugar se mide la actividad de una muestra radiactiva de cobalto 60 $Co^{60}$ y estroncio 90 $Sr^{90}$ variando la tensión de entrada."
   ]
  },
  {
   "cell_type": "code",
   "execution_count": 2,
   "id": "0244bd72",
   "metadata": {},
   "outputs": [
    {
     "name": "stdout",
     "output_type": "stream",
     "text": [
      "    |   tension |   cuentas |        bq\n",
      "----+-----------+-----------+-----------\n",
      "  0 |       360 |        85 |  0.944444\n",
      "  1 |       400 |      2099 | 23.3222\n",
      "  2 |       440 |      4232 | 47.0222\n",
      "  3 |       480 |      4187 | 46.5222\n",
      "  4 |       520 |      4352 | 48.3556\n",
      "  5 |       560 |      4265 | 47.3889\n",
      "  6 |       600 |      4260 | 47.3333\n",
      "  7 |       640 |      4393 | 48.8111\n",
      "  8 |       680 |      4438 | 49.3111\n",
      "  9 |       720 |      4451 | 49.4556\n",
      " 10 |       760 |      4508 | 50.0889\n",
      " 11 |       800 |      4724 | 52.4889\n",
      " 12 |       840 |      4914 | 54.6\n",
      " 13 |       880 |      5292 | 58.8\n"
     ]
    }
   ],
   "source": [
    "# Datos curva característica\n",
    "\n",
    "# fuente: cobalto 60\n",
    "# tiempo de medida: 90s\n",
    "t_p1 = 90\n",
    "# medidas: practica1_curva.csv donde columnas son la tensión en voltios y el número de cuentas\n",
    "data1_p1 = DATA_PATH + \"practica1_curva.csv\"\n",
    "df1_p1 = pd.read_csv(data1_p1)\n",
    "df1_p1[\"bq\"] = df1_p1[\"cuentas\"]/t_p1\n",
    "#df1_p1.style\n",
    "print(tabulate(df1_p1, headers=\"keys\", tablefmt=\"presto\"))"
   ]
  },
  {
   "cell_type": "code",
   "execution_count": 3,
   "id": "e72e06f3",
   "metadata": {},
   "outputs": [
    {
     "data": {
      "image/png": "[encoded data removed]",
      "text/plain": [
       "<Figure size 432x288 with 1 Axes>"
      ]
     },
     "metadata": {
      "needs_background": "light"
     },
     "output_type": "display_data"
    }
   ],
   "source": [
    "plt.plot(df1_p1[\"tension\"], df1_p1[\"bq\"], '-o')\n",
    "#plt.legend(loc='top_right')\n",
    "plt.title('Curva característica contador Geiger-Muller')\n",
    "plt.xlabel('Tensión (V)')\n",
    "plt.ylabel('Cuentas / segundo (Bq)')\n",
    "plt.grid(True)\n",
    "plt.show()"
   ]
  },
  {
   "cell_type": "code",
   "execution_count": 4,
   "id": "9f5d0114",
   "metadata": {},
   "outputs": [
    {
     "data": {
      "text/markdown": [
       "Por inspección visual podemos ver que la tensión umbral viene dada por el valor $V_u=440V$.          La longitud de la meseta en este caso sería $V_f - V_i = 760 - 480 = 280V$,          siendo $V_f$ y $V_i$ la tensión al comienzo y al final de la meseta.                  Puesto que la longitud de la meseta es superior a 200V tenemos que la tensión de trabajo es $V_t = V_i + 100 =580V$"
      ],
      "text/plain": [
       "<IPython.core.display.Markdown object>"
      ]
     },
     "execution_count": 4,
     "metadata": {},
     "output_type": "execute_result"
    }
   ],
   "source": [
    "V_u = df1_p1[\"tension\"][2]\n",
    "V_i = df1_p1[\"tension\"][3]\n",
    "V_f = df1_p1[\"tension\"][10]\n",
    "l_meseta = V_f-V_i\n",
    "V_t = df1_p1[\"tension\"][3] + 100\n",
    "R_i = round(df1_p1[\"bq\"][3], 2)\n",
    "R_f = round(df1_p1[\"bq\"][10], 2)\n",
    "\n",
    "TEXT = f\"Por inspección visual podemos ver que la tensión umbral viene dada por el valor $V_u={V_u}V$. \\\n",
    "         La longitud de la meseta en este caso sería $V_f - V_i = {V_f} - {V_i} = {l_meseta}V$, \\\n",
    "         siendo $V_f$ y $V_i$ la tensión al comienzo y al final de la meseta.\\\n",
    "         \\\n",
    "         Puesto que la longitud de la meseta es superior a 200V tenemos que la tensión de trabajo es $V_t = V_i + 100 ={V_t}V$\"\n",
    "\n",
    "md(TEXT)"
   ]
  },
  {
   "cell_type": "markdown",
   "id": "4e890920",
   "metadata": {},
   "source": [
    "La pendiente relativa al punto medio de la meseta expresada en tanto por ciento por 100V viene data por la expresión\n",
    "$$\n",
    "P = \\frac{\\frac{R_f - R_i}{(R_f + R_i)/2}}{(V_f - V_i)/100}x100\n",
    "$$"
   ]
  },
  {
   "cell_type": "code",
   "execution_count": 5,
   "id": "183fb13c",
   "metadata": {},
   "outputs": [
    {
     "data": {
      "text/markdown": [
       "Siendo $R_i = 46.52$, $R_f=50.09$ los Bq al comienzo y final de la meseta, respectivamente.          Con estos datos obtenemos un valor de $P=2.64$ en % (por 100V)"
      ],
      "text/plain": [
       "<IPython.core.display.Markdown object>"
      ]
     },
     "execution_count": 5,
     "metadata": {},
     "output_type": "execute_result"
    }
   ],
   "source": [
    "P = 100 * ((R_f - R_i) / ((R_f + R_i)/2)) / ((V_f - V_i)/100)\n",
    "P = rnd(P)\n",
    "\n",
    "TEXT = f\"Siendo $R_i = {R_i}$, $R_f={R_f}$ los Bq al comienzo y final de la meseta, respectivamente. \\\n",
    "         Con estos datos obtenemos un valor de $P={P}$ en % (por 100V)\"\n",
    "\n",
    "md(TEXT)"
   ]
  },
  {
   "cell_type": "markdown",
   "id": "dc5cacfe",
   "metadata": {},
   "source": [
    "## Fondo"
   ]
  },
  {
   "cell_type": "markdown",
   "id": "904fdbaa",
   "metadata": {},
   "source": [
    "Mediante el método de las dos fuentes podemos calcular el tiempo de resolución del contador Geiger-Muller. Si se mide durante 90s la actividad de una muestra de $Co^{60}$ y $Sr^{90}$, obtenemos la siguiente tabla"
   ]
  },
  {
   "cell_type": "code",
   "execution_count": 6,
   "id": "d5343584",
   "metadata": {},
   "outputs": [
    {
     "name": "stdout",
     "output_type": "stream",
     "text": [
      "     |    0 |    1 |    2 |    3 |   media |    bq\n",
      "-----+------+------+------+------+---------+-------\n",
      " A1  | 4036 | 4110 | 4096 | 4082 | 4081    | 45.34\n",
      " A12 | 7577 | 7545 | 7630 | 7433 | 7546.25 | 83.85\n",
      " A2  | 3750 | 3806 | 3833 | 3819 | 3802    | 42.24\n",
      " F   |   27 |   14 |   30 |   29 |   25    |  0.28\n"
     ]
    }
   ],
   "source": [
    "# Datos detección de fondo\n",
    "\n",
    "# fuente: cobalto 60, estroncio 90\n",
    "# tiempo de medida: 90s\n",
    "t_p1 = 90\n",
    "# medidas: practica1_fondo.csv\n",
    "data2_p1 = DATA_PATH + \"practica1_fondo.csv\"\n",
    "df2_p1 = pd.read_csv(data2_p1, index_col=\"cuentas\")\n",
    "df2_p1 = df2_p1.T\n",
    "\n",
    "df2_p1[\"media\"] = df2_p1.mean(axis=1)\n",
    "df2_p1[\"bq\"] = df2_p1[\"media\"]/t_p1\n",
    "df2_p1[\"bq\"] = df2_p1[\"bq\"].map(rnd)\n",
    "print(tabulate(df2_p1, headers=\"keys\", tablefmt=\"presto\"))"
   ]
  },
  {
   "cell_type": "markdown",
   "id": "90f4a69f",
   "metadata": {},
   "source": [
    "Donde $A_1$ corresponde a la actividad de la muestra de cobalto, $A_2$ a la muestra de estroncio, $A_{12}$ la actividad de ambas muestras y $F$ la radiación de fondo (sin muestra). Con estas medidas podemos calcular el tiempo de resolución del contador mediante la siguiente fórmula\n",
    "\n",
    "$$\n",
    "\\tau = \\frac{A_{12} + F - A_1 - A_2}{A_1^2 + A_2^2 - F^2 - A_{12}^2}\n",
    "$$"
   ]
  },
  {
   "cell_type": "code",
   "execution_count": 7,
   "id": "d10e38ab",
   "metadata": {},
   "outputs": [
    {
     "data": {
      "text/markdown": [
       "Sustituyendo valores obtenemos que el tiempo de resolución es $0.0011s$"
      ],
      "text/plain": [
       "<IPython.core.display.Markdown object>"
      ]
     },
     "execution_count": 7,
     "metadata": {},
     "output_type": "execute_result"
    }
   ],
   "source": [
    "A1 = df2_p1[\"bq\"][\"A1\"]\n",
    "A12 = df2_p1[\"bq\"][\"A12\"]\n",
    "A2 = df2_p1[\"bq\"][\"A2\"]\n",
    "F = df2_p1[\"bq\"][\"F\"]\n",
    "\n",
    "tau = (A12+F-A1-A2) / ((A1*A1) + (A2*A2) - (F*F) - (A12*A12))\n",
    "\n",
    "TEXT = f\"Sustituyendo valores obtenemos que el tiempo de resolución es ${round(tau, 4)}s$\"\n",
    "\n",
    "md(TEXT)"
   ]
  },
  {
   "cell_type": "markdown",
   "id": "ea22b3e6",
   "metadata": {},
   "source": [
    "## Eficiencia del detector"
   ]
  },
  {
   "cell_type": "code",
   "execution_count": 8,
   "id": "31ceb73b",
   "metadata": {},
   "outputs": [],
   "source": [
    "# Datos Cobalto 60\n",
    "L_co = 4537 # número de cuentas (dato)\n",
    "# F # fondo (cuentas)\n",
    "tasa_recuento_neta_co = (L_co-F)/t_p1 # bq\n",
    "actividad_inicial_co = 37000 # bq\n",
    "tiempo_medicion_co = 1.92 # años, abril 2010 a marzo 2012\n",
    "periodo_co = 5.26 # años\n",
    "lambda_co = np.log(2)/periodo_co # años^(-1)\n",
    "actividad_corregida_co = actividad_inicial_co*np.e**(-lambda_co*tiempo_medicion_co) # bq\n",
    "epsilon_co = tasa_recuento_neta_co/actividad_corregida_co"
   ]
  },
  {
   "cell_type": "markdown",
   "id": "665863d2",
   "metadata": {},
   "source": [
    "\n",
    "**Fuente: $Co^{60}$**\n",
    "\n",
    "- Tipo de emisión: emisión $\\beta^{-}$ y $\\gamma$\n",
    "\n",
    "- Tiempo de medida: $t=90s$\n",
    "\n",
    "- Número de cuentas: $L=4537$\n",
    "\n",
    "- Fondo: $F = 25$\n",
    "\n",
    "- Tasa de recuento neta: $A'= \\frac{(L-F)}{t} = 50.13 Bq$\n",
    "\n",
    "- Actividad inicial de la muestra: $A_0 = 1 \\mu Ci = 37000 Bq$\n",
    "\n",
    "- Fecha: abril 2010. Tiempo transcurrido hasta marzo 2012 cuando fueron tomadas las medidas: $T_m = 23 meses (1.92 a)$\n",
    "\n",
    "- Período: $T_{1/2} = 5.26 a -> \\lambda = \\frac{ln2}{T_{1/2}} = 0.13 a^{-1}$\n",
    "\n",
    "- Actividad corregida: $A = A_0e^{- \\lambda T_m} = 28728 Bq$\n",
    "\n",
    "- Eficiencia $\\epsilon = A'/A = 0.0018$"
   ]
  },
  {
   "cell_type": "code",
   "execution_count": 9,
   "id": "5af9d0e9",
   "metadata": {},
   "outputs": [],
   "source": [
    "# Datos Estroncio 90\n",
    "L_sr = 34212 # número de cuentas (dato)\n",
    "# F # fondo (cuentas)\n",
    "tasa_recuento_neta_sr = (L_sr-F)/t_p1 # bq\n",
    "actividad_inicial_sr = 3700 # bq\n",
    "tiempo_medicion_sr = 1.83 # años, mayo 2010 a marzo 2012\n",
    "periodo_sr = 28.5 # años\n",
    "lambda_sr = np.log(2)/periodo_sr # años^(-1)\n",
    "actividad_corregida_sr = actividad_inicial_sr*np.e**(-lambda_sr*tiempo_medicion_sr) # bq\n",
    "epsilon_sr = tasa_recuento_neta_sr/actividad_corregida_sr"
   ]
  },
  {
   "cell_type": "markdown",
   "id": "174833a2",
   "metadata": {},
   "source": [
    "\n",
    "**Fuente: $Sr^{90}$**\n",
    "\n",
    "- Tipo de emisión: emisión $\\beta^{-}$\n",
    "\n",
    "- Tiempo de medida: $t=90s$\n",
    "\n",
    "- Número de cuentas: $L=34212$\n",
    "\n",
    "- Fondo: $F = 25$\n",
    "\n",
    "- Tasa de recuento neta: $A'= \\frac{(L-F)}{t} = 380.13 Bq$\n",
    "\n",
    "- Actividad inicial de la muestra: $A_0 = 0.1 \\mu Ci = 3700 Bq$\n",
    "\n",
    "- Fecha: mayo 2010. Tiempo transcurrido hasta marzo 2012 cuando fueron tomadas las medidas: $T_m = 22 meses (1.83 a)$\n",
    "\n",
    "- Período: $T_{1/2} = 28.5 a -> \\lambda = \\frac{ln2}{T_{1/2}} = 0.024 a^{-1}$\n",
    "\n",
    "- Actividad corregida: $A = A_0e^{- \\lambda T_m} = 3538.93 Bq$\n",
    "\n",
    "- Eficiencia $\\epsilon = A'/A = 0.11$"
   ]
  },
  {
   "cell_type": "markdown",
   "id": "4ea3ef6a",
   "metadata": {},
   "source": [
    "## Conclusiones\n",
    "\n",
    "La construcción de la curva característica de un detector Geiger-Muller permite determinar el potencial óptimo de trabajo del dispositivo.\n",
    "\n",
    "La pendiente de la meseta de un detector Geiger ordinario suele estar entorno al 2%-3%, resultado que concuerda en gran medida con el valor hallado en este experimento (2.64%).\n",
    "\n",
    "En cuanto al tiempo de respuesta de nuestro detector, podemos decir que es de respuesta lenta $\\tau = 0.0011s$, ya que existen detectores con un tiempo de resolución del microsegundo. \n",
    "\n",
    "Es importante recalcar que conservar la posición de las muestras a lo largo del experimento es importante puesto que la eficiencia del detector, en especial la eficiencia geométrica, depende de la distancia a la fuente de partículas. En cuanto a la eficiencia según el tipo de fuente emisora, tenemos dos casos por analizar:\n",
    "\n",
    "- Radiación gamma $\\gamma$: al ser radiación de alta energía tenemos que la mayoría de los fotones emitidos atraviesan el contador con mínima interacción. Cabe preguntarse si nuestro detector cumple los estándares habituales. Dado que los detectores G-M para la radiación gamma suelen tener una eficiencia de entorno al 1% (o incluso menor) podemos concluir que nuestro detector sigue dicha normalidad, pues el valor obtenido es de entorno al $\\epsilon = 0.18$ %\n",
    "\n",
    "- Radiación beta $\\beta$: los contadores G-M se caracterizan por ser buenos detectores de este tipo de radiación (corto alcance), por lo que suelen tener eficiencias muy cercanas al 100%, sin embargo, nuestro detector G-M ofrece una eficiencia de entorno al 11%, con lo que no podemos concluir que sea especialmente bueno para este tipo de radiación (al contrario que con la radiación gamma).\n",
    "\n",
    "Por ahora hemos analizado la eficiencia del detector G-M según el tipo de radiación, pero es importante aclarar que la eficiencia absoluta no solo depende de este factor sino que también de factores geométricos (como ya hemos comentado anteriormente sobre la posición de las partículas). La relación entre las distintas eficiencias que puede resumirse según la fórmula $\\epsilon_t = \\epsilon_{geo} x \\epsilon_{i}$, y aquí intervienen factores que pueden ser muy determinantes como son la energía de la radiación, la probabilidad de interacción en el detector, el tiempo de respuesta del detector, sus materiales de fabricación, su tamaño, etc.\n",
    "\n",
    "Con todo lo dicho anteriormente, y teniendo en cueta las medidas tomadas y los cálculos realizados, podemos llegar a la conclusión de que hemos realizado una correcta caracterización de nuestro detector G-M."
   ]
  }
 ],
 "metadata": {
  "kernelspec": {
   "display_name": "Python 3 (ipykernel)",
   "language": "python",
   "name": "python3"
  },
  "language_info": {
   "codemirror_mode": {
    "name": "ipython",
    "version": 3
   },
   "file_extension": ".py",
   "mimetype": "text/x-python",
   "name": "python",
   "nbconvert_exporter": "python",
   "pygments_lexer": "ipython3",
   "version": "3.9.6"
  }
 },
 "nbformat": 4,
 "nbformat_minor": 5
}
