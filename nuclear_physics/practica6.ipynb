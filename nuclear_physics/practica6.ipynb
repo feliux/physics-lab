{
 "cells": [
  {
   "cell_type": "code",
   "execution_count": 1,
   "id": "560468c9",
   "metadata": {},
   "outputs": [],
   "source": [
    "# VER README\n",
    "# Notebooks con Markdown en celdas de coódigo para renderizar sin celdas ni prompt\n",
    "\n",
    "import math\n",
    "\n",
    "import numpy as np\n",
    "import pandas as pd\n",
    "import matplotlib.pyplot as plt\n",
    "\n",
    "from tabulate import tabulate\n",
    "from sklearn import linear_model\n",
    "from sklearn.metrics import mean_squared_error, r2_score\n",
    "from sympy import *\n",
    "from IPython.display import Markdown as md\n",
    "\n",
    "%matplotlib inline\n",
    "\n",
    "# Data\n",
    "DATA_PATH = \"data/\"\n",
    "\n",
    "# Funciones\n",
    "rnd = lambda x: round(x, 2)"
   ]
  },
  {
   "cell_type": "markdown",
   "id": "20619fe3",
   "metadata": {},
   "source": [
    "# Espectrometría de partículas alfa y beta. Absorción de partículas alfa\n",
    "\n",
    "Contamos con un detector de barrera de superficie con el que detectamos partículas alfa provenientes de una fuente ($Am^{241}(\\alpha)$, $Sr^{90}(\\beta)$, $Cs^{137}(\\beta; CI)$) radiactiva mientras variamos la distancia. No tendremos medidas de fondo por ser prácticamente despreciable."
   ]
  },
  {
   "cell_type": "code",
   "execution_count": 2,
   "id": "61693edd",
   "metadata": {},
   "outputs": [
    {
     "name": "stdout",
     "output_type": "stream",
     "text": [
      "    |   distancia (cm) |   area (cuentas) |        bq\n",
      "----+------------------+------------------+-----------\n",
      "  0 |              1   |            61281 | 204.27\n",
      "  1 |              1.5 |            36195 | 120.65\n",
      "  2 |              2   |            24549 |  81.83\n",
      "  3 |              2.5 |            13676 |  45.5867\n",
      "  4 |              3   |             9207 |  30.69\n",
      "  5 |              3.5 |              563 |   1.87667\n"
     ]
    }
   ],
   "source": [
    "# Datos período de una kuestra radiactiva\n",
    "\n",
    "# tiempo de acumulación: 300s\n",
    "t_acumulacion = 300\n",
    "# medidas: practica6.csv donde columnas son distancia (cm) y el número de cuentas\n",
    "data_p6 = DATA_PATH + \"practica6.csv\"\n",
    "df1_p6 = pd.read_csv(data_p6)\n",
    "df1_p6[\"bq\"] = df1_p6[\"area (cuentas)\"] / t_acumulacion\n",
    "\n",
    "print(tabulate(df1_p6, headers=\"keys\", tablefmt=\"presto\"))"
   ]
  },
  {
   "cell_type": "code",
   "execution_count": 3,
   "id": "d11d665c",
   "metadata": {},
   "outputs": [
    {
     "name": "stdout",
     "output_type": "stream",
     "text": [
      "Coeficientes: -75.319\n",
      "Término independiente: 250.286\n",
      "Mean Squared Error (MSE): 332.39\n",
      "R2: 0.93\n"
     ]
    },
    {
     "data": {
      "image/png": "[encoded data removed]",
      "text/plain": [
       "<Figure size 432x288 with 1 Axes>"
      ]
     },
     "metadata": {
      "needs_background": "light"
     },
     "output_type": "display_data"
    }
   ],
   "source": [
    "y = df1_p6[\"bq\"].to_numpy()\n",
    "x = df1_p6[\"distancia (cm)\"].to_numpy()\n",
    "\n",
    "# Creamos el objeto para regresion lineal\n",
    "regr = linear_model.LinearRegression()\n",
    "# Entrenamos nuestro modelo\n",
    "regr.fit(x.reshape(-1, 1), y)\n",
    "# Hacemos las predicciones\n",
    "y_pred = regr.predict(x.reshape(-1, 1))\n",
    "\n",
    "# Tangente\n",
    "print(\"Coeficientes: %.3f\" % regr.coef_[0])\n",
    "# Término independiente\n",
    "print(\"Término independiente: %.3f\" % regr.intercept_)\n",
    "# MSE\n",
    "print(\"Mean Squared Error (MSE): %.2f\" % mean_squared_error(y, y_pred))\n",
    "# R2, tiende a 1.0\n",
    "print(\"R2: %.2f\" % r2_score(y, y_pred))\n",
    "\n",
    "\n",
    "plt.plot(x, y, \"o\")\n",
    "plt.plot(x, y_pred, color=\"red\", label=\"Regresión lineal\")\n",
    "plt.title(\"Cuentas/s (Bq) vs Distancia\")\n",
    "plt.xlabel(\"Distancia (cm)\")\n",
    "plt.ylabel(\"Bq\")\n",
    "plt.grid(True)\n",
    "plt.legend()\n",
    "plt.show()"
   ]
  },
  {
   "cell_type": "code",
   "execution_count": 4,
   "id": "fc696174",
   "metadata": {},
   "outputs": [
    {
     "data": {
      "text/markdown": [
       "Mediante un ajuste lineal podemos extrapolar el alcance (punto de corte con eje X),          que toma un valor de 3.32 cm."
      ],
      "text/plain": [
       "<IPython.core.display.Markdown object>"
      ]
     },
     "execution_count": 4,
     "metadata": {},
     "output_type": "execute_result"
    }
   ],
   "source": [
    "alcance = rnd(-regr.intercept_ / regr.coef_[0])\n",
    "\n",
    "TEXT = f\"Mediante un ajuste lineal podemos extrapolar el alcance (punto de corte con eje X), \\\n",
    "         que toma un valor de {alcance} cm.\"\n",
    "\n",
    "md(TEXT)"
   ]
  },
  {
   "cell_type": "code",
   "execution_count": 5,
   "id": "93fb040f",
   "metadata": {},
   "outputs": [],
   "source": [
    "# Datos alfa\n",
    "area_t = 204.27 # bq\n",
    "actividad_inicial_alfa = 37000 # bq\n",
    "tiempo_medicion_alfa = 24 # años, septiembre 2010 a marzo 2012\n",
    "periodo_alfa = 458 # años\n",
    "lambda_alfa = np.log(2)/periodo_alfa # años^(-1)\n",
    "actividad_corregida_alfa = actividad_inicial_alfa*np.e**(-lambda_alfa*tiempo_medicion_alfa) # bq\n",
    "epsilon_alfa = area_t/actividad_corregida_alfa"
   ]
  },
  {
   "cell_type": "markdown",
   "id": "b182abd0",
   "metadata": {},
   "source": [
    "**Eficiencia del detector para $\\alpha$**\n",
    "\n",
    "Se toma el valor de lárea cuando la muestra está lo más cercana posible al detector, es decir, a 1cm.\n",
    "\n",
    "- Área/t: $A' = 204.27$ Bq\n",
    "\n",
    "- Actividad inicial de la muestra: $A_0 = 37$ kBq\n",
    "\n",
    "- Fecha: año 1988. Tiempo transcurrido entre 1988 y 2012: 24 años. $T_{1/2} = 458 a -> \\lambda = \\frac{ln2}{T_{1/2}} = 0.0015 a^{-1}$\n",
    "\n",
    "- Actividad corregida: $A = A_0e^{- \\lambda T_m} = 35680.19 Bq$\n",
    "\n",
    "- Eficiencia $\\epsilon = A'/A = 0.0057$"
   ]
  },
  {
   "cell_type": "code",
   "execution_count": 6,
   "id": "2c3ce5dc",
   "metadata": {},
   "outputs": [],
   "source": [
    "# Datos beta\n",
    "area_t = 370.56 # bq\n",
    "actividad_inicial_beta = 37000 # bq\n",
    "tiempo_medicion_beta = 24 # años, septiembre 2010 a marzo 2012\n",
    "periodo_beta = 28.1 # años\n",
    "lambda_beta = np.log(2)/periodo_beta # años^(-1)\n",
    "actividad_corregida_beta = actividad_inicial_beta*np.e**(-lambda_beta*tiempo_medicion_beta) # bq\n",
    "epsilon_alfa = area_t/actividad_corregida_beta"
   ]
  },
  {
   "cell_type": "markdown",
   "id": "3bc20c83",
   "metadata": {},
   "source": [
    "**Eficiencia del detector para $\\beta$**\n",
    "\n",
    "Se toma el valor del área para el espectro del $Sr^{90}$\n",
    "\n",
    "- Área/t: $A' = 370.56$ Bq\n",
    "\n",
    "- Actividad inicial de la muestra: $A_0 = 37$ kBq\n",
    "\n",
    "- Fecha: año 1988. Tiempo transcurrido entre 1988 y 2012: 24 años. $T_{1/2} = 28.1 a -> \\lambda = \\frac{ln2}{T_{1/2}} = 0.024 a^{-1}$\n",
    "\n",
    "- Actividad corregida: $A = A_0e^{- \\lambda T_m} = 20468.88 Bq$\n",
    "\n",
    "- Eficiencia $\\epsilon = A'/A = 0.018$"
   ]
  },
  {
   "cell_type": "markdown",
   "id": "c52baf66",
   "metadata": {},
   "source": [
    "## Conclusiones\n",
    "\n",
    "1. El espectro debe tener picos en cada una de las siguientes energías: 5545, 5513, 5486, 5443 y 5388 keV.\n",
    "\n",
    "2. El alcance de partículas $\\alpha$ en aire es del orden de unos pocos centímetros, con lo cual serían indetectables en fuentes alejadas.\n",
    "\n",
    "3. Las partículas $\\beta$ tienen un espectro continuo porque en cada proceso existe un reparto de energía entre el electrón y el antineutrino. La forma del espectro parte de energía cero, aumenta y disminuye hasta llegar un punto en el que la energía cinética máxima del electrón es igual a la diferencia de masas entre el estado inicial y final que corresponde al caso en el que la energía cinética del antineutrino es cero.\n",
    "\n",
    "4. el espectro del $Sr^{90}$ tiene sólo una componente porque es un radioisótopo $\\beta^{-}$ puro que sólo emite electrones y antineutrinos eléctronicos.\n",
    "\n",
    "5. El filtro de plomo mantiene la forma del espectro beta, reduciendo su área en un 90%\n",
    "\n",
    "6. El contador G-M es mejor porque resultó tener una eficiencia del 11%, mientras que éste es de 1.8%\n",
    "\n",
    "7. Tiene esa forma debido a que el Cs decae al $Ba^{137}$ y éste emite un fotón gamma de 667 keV con un período corto, hasta el nivel fundamental del $Ba^{137}$, que son los picos pequeños del espectro."
   ]
  }
 ],
 "metadata": {
  "kernelspec": {
   "display_name": "Python 3 (ipykernel)",
   "language": "python",
   "name": "python3"
  },
  "language_info": {
   "codemirror_mode": {
    "name": "ipython",
    "version": 3
   },
   "file_extension": ".py",
   "mimetype": "text/x-python",
   "name": "python",
   "nbconvert_exporter": "python",
   "pygments_lexer": "ipython3",
   "version": "3.9.6"
  }
 },
 "nbformat": 4,
 "nbformat_minor": 5
}
