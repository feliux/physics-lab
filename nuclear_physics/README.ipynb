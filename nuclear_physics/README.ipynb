{
 "cells": [
  {
   "cell_type": "markdown",
   "id": "f33f3b53",
   "metadata": {},
   "source": [
    "### Generate pdf"
   ]
  },
  {
   "cell_type": "code",
   "execution_count": 1,
   "id": "76073d24",
   "metadata": {},
   "outputs": [],
   "source": [
    "#!jupyter nbconvert --help"
   ]
  },
  {
   "cell_type": "code",
   "execution_count": 5,
   "id": "288a7e52",
   "metadata": {},
   "outputs": [
    {
     "name": "stdout",
     "output_type": "stream",
     "text": [
      "[NbConvertApp] Converting notebook Nuclear.ipynb to pdf\n",
      "[NbConvertApp] Support files will be in nuclear_nbconvert_files/\n",
      "[NbConvertApp] Making directory ./nuclear_nbconvert_files\n",
      "[NbConvertApp] Writing 26650 bytes to notebook.tex\n",
      "[NbConvertApp] Building PDF\n",
      "[NbConvertApp] Running xelatex 3 times: ['xelatex', 'notebook.tex', '-quiet']\n",
      "[NbConvertApp] Running bibtex 1 time: ['bibtex', 'notebook']\n",
      "[NbConvertApp] WARNING | bibtex had problems, most likely because there were no citations\n",
      "[NbConvertApp] PDF successfully created\n",
      "[NbConvertApp] Writing 58213 bytes to nuclear_nbconvert.pdf\n"
     ]
    }
   ],
   "source": [
    "!jupyter nbconvert --to pdf --config nbconvert_nuclear_config.py --output nuclear_nbconvert.pdf"
   ]
  },
  {
   "cell_type": "markdown",
   "id": "a7d0b0be",
   "metadata": {},
   "source": [
    "### generate tex"
   ]
  },
  {
   "cell_type": "code",
   "execution_count": 4,
   "id": "a36f7af4",
   "metadata": {},
   "outputs": [
    {
     "name": "stdout",
     "output_type": "stream",
     "text": [
      "[NbConvertApp] Converting notebook Nuclear.ipynb to latex\n",
      "[NbConvertApp] Support files will be in Nuclear_files/\n",
      "[NbConvertApp] Making directory Nuclear_files\n",
      "[NbConvertApp] Writing 26630 bytes to Nuclear.tex\n"
     ]
    }
   ],
   "source": [
    "!jupyter nbconvert --to latex --config nbconvert_nuclear_config.py"
   ]
  },
  {
   "cell_type": "markdown",
   "id": "f663fd09",
   "metadata": {},
   "source": [
    "In order to generate a pdf with custom information\n",
    "\n",
    "1. Add to `.tex` file the following info\n",
    "~~~\n",
    "    % Document title\n",
    "    \\title{University}\n",
    "    \\author{My name}\n",
    "    \\date{Today}   \n",
    "~~~\n",
    "2. Compile `.tex` file to `.pdf`"
   ]
  },
  {
   "cell_type": "code",
   "execution_count": null,
   "id": "375fe1cb",
   "metadata": {},
   "outputs": [],
   "source": []
  }
 ],
 "metadata": {
  "kernelspec": {
   "display_name": "Python 3 (ipykernel)",
   "language": "python",
   "name": "python3"
  },
  "language_info": {
   "codemirror_mode": {
    "name": "ipython",
    "version": 3
   },
   "file_extension": ".py",
   "mimetype": "text/x-python",
   "name": "python",
   "nbconvert_exporter": "python",
   "pygments_lexer": "ipython3",
   "version": "3.9.6"
  }
 },
 "nbformat": 4,
 "nbformat_minor": 5
}
